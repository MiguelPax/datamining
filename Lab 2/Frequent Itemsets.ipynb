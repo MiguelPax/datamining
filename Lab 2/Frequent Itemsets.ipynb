{
 "cells": [
  {
   "cell_type": "code",
   "execution_count": 107,
   "metadata": {
    "collapsed": true
   },
   "outputs": [],
   "source": [
    "import pandas as pd\n",
    "import numpy as np "
   ]
  },
  {
   "cell_type": "code",
   "execution_count": 140,
   "metadata": {},
   "outputs": [],
   "source": [
    "## load dataset\n",
    "baskets = []\n",
    "with open(\"../data/ItemBasketDataset/transactions.dat\", encoding='utf-8', errors='replace') as f:\n",
    "    for line in f.readlines():\n",
    "        basket = line.split(\" \")\n",
    "        clean_basket = []\n",
    "        for i, itemStr in enumerate(basket): \n",
    "            if (i != len(basket)-1):\n",
    "                clean_basket.append(int(itemStr))\n",
    "        baskets.append(set(clean_basket))\n",
    "        \n",
    "baskets = baskets[0:10000]"
   ]
  },
  {
   "cell_type": "code",
   "execution_count": 141,
   "metadata": {},
   "outputs": [
    {
     "data": {
      "text/plain": [
       "10000"
      ]
     },
     "execution_count": 141,
     "metadata": {},
     "output_type": "execute_result"
    }
   ],
   "source": [
    "len(baskets)"
   ]
  },
  {
   "cell_type": "code",
   "execution_count": 142,
   "metadata": {
    "collapsed": true
   },
   "outputs": [],
   "source": [
    "class Apriori: \n",
    "    def __init__(this, baskets, N):\n",
    "        this.baskets = baskets\n",
    "        this.C = [set()] * N ## Initialize with empty set at 0 because we will not use C0. \n",
    "        this.L = [set()] * N ## Initialize with empty set at 0 because we will not use L0. \n",
    "        this.S = {}\n",
    "        this.N = N\n",
    "        \n",
    "        \n",
    "    def computeSupport(this, k): \n",
    "        \"\"\" walks through the buckets and counts each candidate occurence, saves to F[k] \"\"\"\n",
    "        count = {}\n",
    "        for candidateRepr in this.C[k]:\n",
    "            candidate = eval(candidateRepr)\n",
    "            for basket in this.baskets: \n",
    "                if (candidate.issubset(basket)): ## If candidate occurs in basket\n",
    "                    if (candidateRepr not in count): \n",
    "                        count[candidateRepr] = 1\n",
    "                    count[candidateRepr] += i\n",
    "        for candidateRepr in this.C[k]:\n",
    "            support = count[candidateRepr]/len(this.baskets) ## Support is expressed as the fraction of transaction in which the candidate occurs\n",
    "            this.S[candidateRepr] = support\n",
    "                \n",
    "    def createCandidates(this, k): \n",
    "        \"\"\" creates candidates C[k] \"\"\"\n",
    "        \n",
    "        return set()\n",
    "                \n",
    "    def filterCandidates(this, k, s): \n",
    "        \"\"\" filters out the candidates which do not have support in the original baskets \"\"\"\n",
    "        frequent = set()\n",
    "        for candidateRepr in this.C[k]: \n",
    "            if this.S[candidateRepr] > s:\n",
    "                frequent.add(candidateRepr)\n",
    "        \n",
    "        return frequent\n",
    "    \n",
    "        "
   ]
  },
  {
   "cell_type": "markdown",
   "metadata": {},
   "source": [
    "## Pipeline\n",
    "- Compute item support\n",
    "- Let candidates C1 be all items\n",
    "- Construct L1 by filtering out candidates with low support\n",
    "- for k --> N:\n",
    "    - Construct new candidates Ck based on Ck-1 and C1\n",
    "    - Construct Lk by filtering out candidates with low support "
   ]
  },
  {
   "cell_type": "code",
   "execution_count": 143,
   "metadata": {},
   "outputs": [],
   "source": [
    "## Hyperparams\n",
    "s = 0.01 # Support threshold\n",
    "N = 10 # the largest sought itemset\n",
    "\n"
   ]
  },
  {
   "cell_type": "code",
   "execution_count": 144,
   "metadata": {
    "collapsed": true
   },
   "outputs": [],
   "source": [
    "A = Apriori(baskets, N)\n",
    "k = 1\n",
    "## Let candidates C1 be the set of all items\n",
    "for basket in baskets: \n",
    "    for item in basket: \n",
    "        A.C[1].add(repr(set([item]))) #Every candidate is considered a set\n",
    "\n",
    "# Compute support of all candidates in C[1]\n",
    "A.computeSupport(k = k)\n",
    "\n",
    "## Construct L1 by filtering out candidates with low support\n",
    "A.L[1] = A.filterCandidates(k = k, s = s)"
   ]
  },
  {
   "cell_type": "code",
   "execution_count": 145,
   "metadata": {},
   "outputs": [
    {
     "name": "stdout",
     "output_type": "stream",
     "text": [
      "Found 866 singleton candidates, out of which 813 had support > 0.01\n"
     ]
    }
   ],
   "source": [
    "print(\"Found {} singleton candidates, out of which {} had support > {}\".format(len(A.C[1]), len(A.L[1]), s))"
   ]
  },
  {
   "cell_type": "code",
   "execution_count": null,
   "metadata": {},
   "outputs": [],
   "source": [
    "k += 1 ## Increase k to 2\n",
    "\n",
    "while k <= N\n",
    "    # Construct new candidates Ck based on Ck-1 and C1\n",
    "    A.C[k] = # \n",
    "    # Construct Lk by filtering out candidates with low support\n",
    "    A.L[k] = A.filterCandidates(k = 1, s = s)\n",
    "    \n",
    "    k += 1"
   ]
  },
  {
   "cell_type": "code",
   "execution_count": null,
   "metadata": {},
   "outputs": [],
   "source": []
  },
  {
   "cell_type": "code",
   "execution_count": null,
   "metadata": {},
   "outputs": [],
   "source": []
  },
  {
   "cell_type": "code",
   "execution_count": 148,
   "metadata": {},
   "outputs": [
    {
     "data": {
      "text/plain": [
       "array([ 2,  3,  4,  5,  6,  7,  8,  9, 10])"
      ]
     },
     "execution_count": 148,
     "metadata": {},
     "output_type": "execute_result"
    }
   ],
   "source": []
  },
  {
   "cell_type": "code",
   "execution_count": 41,
   "metadata": {},
   "outputs": [],
   "source": []
  },
  {
   "cell_type": "code",
   "execution_count": 39,
   "metadata": {},
   "outputs": [
    {
     "data": {
      "text/plain": [
       "False"
      ]
     },
     "execution_count": 39,
     "metadata": {},
     "output_type": "execute_result"
    }
   ],
   "source": []
  },
  {
   "cell_type": "code",
   "execution_count": 70,
   "metadata": {},
   "outputs": [
    {
     "data": {
      "text/plain": [
       "'{1, 2, 3, 7}'"
      ]
     },
     "execution_count": 70,
     "metadata": {},
     "output_type": "execute_result"
    }
   ],
   "source": [
    "repr(set([1, 2, 3, 7]))"
   ]
  },
  {
   "cell_type": "code",
   "execution_count": 72,
   "metadata": {},
   "outputs": [
    {
     "data": {
      "text/plain": [
       "'{1, 2, 3, 7}'"
      ]
     },
     "execution_count": 72,
     "metadata": {},
     "output_type": "execute_result"
    }
   ],
   "source": [
    "repr(set([1, 2, 7, 3, 3]))"
   ]
  },
  {
   "cell_type": "code",
   "execution_count": null,
   "metadata": {
    "collapsed": true
   },
   "outputs": [],
   "source": []
  }
 ],
 "metadata": {
  "kernelspec": {
   "display_name": "Python 3",
   "language": "python",
   "name": "python3"
  },
  "language_info": {
   "codemirror_mode": {
    "name": "ipython",
    "version": 3
   },
   "file_extension": ".py",
   "mimetype": "text/x-python",
   "name": "python",
   "nbconvert_exporter": "python",
   "pygments_lexer": "ipython3",
   "version": "3.6.2"
  }
 },
 "nbformat": 4,
 "nbformat_minor": 2
}
