{
 "cells": [
  {
   "cell_type": "code",
   "execution_count": 3,
   "metadata": {
    "collapsed": true
   },
   "outputs": [],
   "source": [
    "import numpy as np\n"
   ]
  },
  {
   "cell_type": "markdown",
   "metadata": {},
   "source": [
    "## Dataset Details\n",
    "\n",
    "- Size: 382,219 vertices (actors)\n",
    "- Volume: 33,115,812 edges (collaborations)\n",
    "- Unique volume: 30,076,166 edges (collaborations)\n",
    "- Average degree: 173.28 edges / vertex\n",
    "- Wedge count: 6,266,209,411 \n",
    "- Triangle count\t346,813,199 \n",
    "\n",
    "\n",
    "A common measure is the transitivity = 3T/W"
   ]
  },
  {
   "cell_type": "code",
   "execution_count": 4,
   "metadata": {},
   "outputs": [
    {
     "name": "stdout",
     "output_type": "stream",
     "text": [
      "% sym positive\n",
      "\n",
      "1 2 \n",
      "\n",
      "2 1 \n",
      "\n",
      "1 3 \n",
      "\n",
      "1 4 \n",
      "\n",
      "1 5 \n",
      "\n",
      "1 6 \n",
      "\n",
      "1 7 \n",
      "\n",
      "3 1 \n",
      "\n",
      "3 4 \n",
      "\n"
     ]
    }
   ],
   "source": [
    "import os\n",
    "\n",
    "def stream(stream_length = 10): \n",
    "    path = \"../data/actor-collaboration/out.actor-collaboration\"\n",
    "    raw_documents = []\n",
    "    i = 0\n",
    "    with open(path, encoding='utf-8', errors='replace') as f:\n",
    "        while i < stream_length:\n",
    "            line = f.readline()\n",
    "            print(line)\n",
    "            i += 1\n"
   ]
  },
  {
   "cell_type": "markdown",
   "metadata": {},
   "source": [
    "### Core algorithm\n",
    "\n",
    "#### Wedge sampling to estimate the transitivity\n",
    "A wedge is closed if it participates in a triangle, otherwise it is open. Note that the transitivity (= 3T/W) is exactly the probability that a uniform random wedge is closed. This leads to a simple randomized algorithm for estimating transivity (and triangle count) by sampling a set of independent uniform random wedges and finding the fraction of closed wedges. \n",
    "\n",
    "#### But how to sample wedges from a stream of edges? \n",
    "Suppose we just sampled a uniform random set of edges. How large does this set need to be to get a wedge? The birthday paradox can be used to deduce that (as long as W ≥ m, which holds for a great majority, if not all, of real networks) O(sqrt(n)) edges suffice\n",
    "\n",
    "\n",
    "#### Reservoir sampling \n",
    "Reservoir sampling means sampling a stream sequentially, with probability 1/i to pick the i:th data point. "
   ]
  },
  {
   "cell_type": "markdown",
   "metadata": {},
   "source": []
  },
  {
   "cell_type": "markdown",
   "metadata": {},
   "source": [
    "#### Main data structures \n",
    "\n",
    "- Array edge res[1...se]: This is the array of reservoir edges and is the subsample of the stream maintained.\n",
    "- New wedges Nt: This is a list of all wedges involving et formed only by edges in edge res. This may often be empty, if et is not added to the edge res. We do not necessarily maintain this list explicitly, and we discuss implementation details later.\n",
    "- Variable tot wedges: This is the total number of wedges formed by edges in the current edge res.\n",
    "- Array wedge res[1...sw]: This is an array of reservoir wedges of size sw.\n",
    "- Array isClosed[1...sw]: This is a boolean array. We set isClosed[i] to be true if wedge wedge res[i] is detected as closed.\n",
    "\n",
    "#### Algorithm\n",
    "![update.png](./update.png)"
   ]
  },
  {
   "cell_type": "code",
   "execution_count": 43,
   "metadata": {},
   "outputs": [],
   "source": [
    "class StreamingTriangles: \n",
    "    def __init__(this, path, se, sw, early_stop = np.inf): \n",
    "        ## Initialize edge_res of size se and wedge_res of size sw\n",
    "        this.se = se\n",
    "        this.sw = sw\n",
    "        \n",
    "        this.edge_res = [(0,0)] * se\n",
    "        this.wedge_res = [((0,0), (0,0))] * sw # containing the sampled wedges, a tuple of two tuples\n",
    "\n",
    "        this.tot_wedges = 0 # the number of wedges formed by edges in the current edge res\n",
    "        \n",
    "        this.isClosed = np.zeros((1,sw), dtype = bool)\n",
    "        \n",
    "        this.K = [0]\n",
    "        this.T = [0]\n",
    "        \n",
    "        this.t = 1 # t denotes the timestep \n",
    "\n",
    "        ## Simulate stream\n",
    "        with open(path, encoding='utf-8', errors='replace') as f:\n",
    "\n",
    "            f.readline() # skip first line \n",
    "            \n",
    "            while this.t < early_stop: \n",
    "                ## read data from line\n",
    "                line = f.readline()\n",
    "                edge = (int(line.split(\" \")[0]), int(line.split(\" \")[1]))\n",
    "                \n",
    "                # call update \n",
    "                this.update(edge)\n",
    "                \n",
    "                # let p be the fraction of entries in isClosed set to true\n",
    "                p = this.isClosed.sum()/len(this.isClosed)\n",
    "                \n",
    "                Kt = 3 * p\n",
    "                \n",
    "                Tt = (p * t**2 / se * (se-1) ) * this.tot_wedges\n",
    "                \n",
    "                this.t += 1\n",
    "                \n",
    "    def update(this, et): \n",
    "        new_edges = 0\n",
    "        new_wedges = 0\n",
    "        \n",
    "        ## Check if et creates any triangles\n",
    "        for i in range(this.sw): \n",
    "            if this.isTriangle(wedge_res[i], et): ## if wedge_res[i] closed by et:\n",
    "                this.isClosed[i] = True\n",
    "        \n",
    "        ## Randomly update the sampled edges \n",
    "        for i in range(this.se):\n",
    "            \n",
    "            #pick a random number x in [0, 1]\n",
    "            x = np.random.rand()\n",
    "            \n",
    "            if (x <= i/this.t): \n",
    "                this.edge_res[i] = et\n",
    "                new_edges += 1\n",
    "                \n",
    "        if new_edges:             \n",
    "            \n",
    "            # get all wedges formed by the edges in edge_res\n",
    "            all_wedges = this.getAllWedges()\n",
    "            \n",
    "            # update tot_wedges: the number of wedges in this.edge_res\n",
    "            this.tot_wedges = len(all_wedges)\n",
    "            \n",
    "            # determine Nt (wedges involving et) and let new_wedges = |Nt|\n",
    "            Nt = this.getWedgesWithEdge(all_wedges, et)\n",
    "            new_wedges = len(Nt)\n",
    "            \n",
    "            for i in range(this.sw): \n",
    "                #pick a random number x in [0, 1]\n",
    "                x = np.random.rand()   \n",
    "                \n",
    "                if (x <= new_wedges/this.tot_wedges):\n",
    "                    # pick uniform random w in Nt\n",
    "                    w = Nt[int(np.random.rand() * len(Nt))]\n",
    "                    \n",
    "                    this.wedge_res[i] = w\n",
    "                    \n",
    "                    this.isClosed[i] = False\n",
    "        \n",
    "        \n",
    "        \n",
    "    \n",
    "        \n",
    "    def isTriangle(this, wedge, edge): \n",
    "        ## determines if a wedge and an edge forms a triange   \n",
    "        \n",
    "        if (edge[0] == edge[1]): \n",
    "            print(\"Found stupid edge {}\".format(edge))\n",
    "            return False\n",
    "        \n",
    "        e1 = set(wedge[0])\n",
    "        e2 = set(wedge[1])\n",
    "        leaves = e1 ^ e2\n",
    "        \n",
    "        if ((edge[0] in leaves) and (edge[1] in leaves)):\n",
    "            return True \n",
    "        else: \n",
    "            return False\n",
    "        \n",
    "    def getWedgesWithEdge(this, wedges, edge):\n",
    "        wedges_with_edge = set()\n",
    "        for wedge in wedges: \n",
    "            if (edge in wedge): \n",
    "                wedges_with_edge.add(wedge)\n",
    "                \n",
    "        return wedges_with_edge\n",
    "                \n",
    "    \n",
    "    def getAllWedges(this): \n",
    "        ## returns all wedges formed by the edges in edge_res\n",
    "        return False "
   ]
  },
  {
   "cell_type": "code",
   "execution_count": 31,
   "metadata": {
    "collapsed": true
   },
   "outputs": [],
   "source": [
    "## Hyperparams \n",
    "se = 10\n",
    "sw = 10\n",
    "\n",
    "\n",
    "path = \"../data/actor-collaboration/out.actor-collaboration\""
   ]
  },
  {
   "cell_type": "code",
   "execution_count": 18,
   "metadata": {},
   "outputs": [
    {
     "name": "stdout",
     "output_type": "stream",
     "text": [
      "(1, 2)\n",
      "(2, 1)\n",
      "(1, 3)\n",
      "(1, 4)\n",
      "(1, 5)\n",
      "(1, 6)\n",
      "(1, 7)\n",
      "(3, 1)\n",
      "(3, 4)\n",
      "(3, 5)\n"
     ]
    }
   ],
   "source": [
    "\n",
    "\n",
    "ST = StreamingTriangles(path, se, sw, 100)\n",
    "\n"
   ]
  },
  {
   "cell_type": "code",
   "execution_count": 44,
   "metadata": {},
   "outputs": [
    {
     "name": "stdout",
     "output_type": "stream",
     "text": [
      "True: expected: True\n",
      "False: expected: False\n",
      "Found stupid edge (1, 1)\n",
      "False: expected: False\n"
     ]
    }
   ],
   "source": [
    "## Tests\n",
    "\n",
    "\n",
    "ST = StreamingTriangles(path, se, sw, 0)\n",
    "\n",
    "wedges = ((0, 1), (1, 2))\n",
    "trueEdge = (2, 0)\n",
    "falseEdge = (2, 1)\n",
    "stupidEdge = (1, 1)\n",
    "\n",
    "print(\"{}: expected: True\".format(ST.isTriangle(wedges, trueEdge)))\n",
    "\n",
    "print(\"{}: expected: False\".format(ST.isTriangle(wedges, falseEdge)))\n",
    "\n",
    "print(\"{}: expected: False\".format(ST.isTriangle(wedges, stupidEdge)))\n",
    "\n",
    "\n",
    "\n",
    "\n"
   ]
  },
  {
   "cell_type": "code",
   "execution_count": null,
   "metadata": {},
   "outputs": [],
   "source": []
  },
  {
   "cell_type": "code",
   "execution_count": null,
   "metadata": {},
   "outputs": [],
   "source": []
  },
  {
   "cell_type": "code",
   "execution_count": null,
   "metadata": {
    "collapsed": true
   },
   "outputs": [],
   "source": []
  }
 ],
 "metadata": {
  "kernelspec": {
   "display_name": "Python 3",
   "language": "python",
   "name": "python3"
  },
  "language_info": {
   "codemirror_mode": {
    "name": "ipython",
    "version": 3
   },
   "file_extension": ".py",
   "mimetype": "text/x-python",
   "name": "python",
   "nbconvert_exporter": "python",
   "pygments_lexer": "ipython3",
   "version": "3.6.2"
  }
 },
 "nbformat": 4,
 "nbformat_minor": 2
}
