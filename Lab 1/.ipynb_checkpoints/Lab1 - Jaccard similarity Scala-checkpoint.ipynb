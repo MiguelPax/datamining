{
 "cells": [
  {
   "cell_type": "code",
   "execution_count": 1,
   "metadata": {
    "collapsed": true
   },
   "outputs": [],
   "source": [
    "import org.apache.spark._"
   ]
  },
  {
   "cell_type": "code",
   "execution_count": 2,
   "metadata": {},
   "outputs": [
    {
     "data": {
      "text/plain": [
       "conf = org.apache.spark.SparkConf@66d5d408\n",
       "sc = org.apache.spark.SparkContext@42ab7cf7\n"
      ]
     },
     "metadata": {},
     "output_type": "display_data"
    },
    {
     "data": {
      "text/html": [
       "<ul>\n",
       "<li><a href=\"Some(http://n170-p61.eduroam.kth.se:4041)\" target=\"new_tab\">Spark UI: local-1541428933634</a></li>\n",
       "</ul>"
      ],
      "text/plain": [
       "Spark local-1541428933634: Some(http://n170-p61.eduroam.kth.se:4041)"
      ]
     },
     "execution_count": 2,
     "metadata": {},
     "output_type": "execute_result"
    }
   ],
   "source": [
    "// Create sparksession\n",
    "val conf = new SparkConf().setAppName(\"Document Similarity App\")\n",
    "val sc = new SparkContext(conf)"
   ]
  },
  {
   "cell_type": "markdown",
   "metadata": {},
   "source": [
    "## Task\n",
    "The task is to implement the stages of finding textually similar documents based on Jaccard similarity using the shingling, minhashing, and locality-sensitive hashing (LSH) techniques and corresponding algorithms. \n",
    "\n",
    "![bigpicture](./docs/bigpicture.png/)"
   ]
  },
  {
   "cell_type": "markdown",
   "metadata": {},
   "source": [
    "## Data\n",
    "The sample data are textfiles of hotel reviews. They are loaded into a dataframe, textfiles."
   ]
  },
  {
   "cell_type": "code",
   "execution_count": 11,
   "metadata": {},
   "outputs": [
    {
     "name": "stdout",
     "output_type": "stream",
     "text": [
      "[Oct 30 2009 \tOK value though shabby; good position.\tI extended a one night stay to three. The staff were basically helpful when asked. My room was clean, comfortable, and daily serviced. I think the position is good for a budget hotel, near the Golden Gate theatre, right by Asian Arts Museum and Civic Centre. It's an old and architecturally atmospheric hotel.Negatives: it is very badly neglected. Things that might put you off are the need usually to ring the outside doorbell and wait to get someone to the unattended reception, unreliable breakfast availability (nil when I was there but I can see from other reviews that it can appear!), a very unreliable (but rather beautiful) classic Otis elevator, some very dilapidated corridors on the way to your room when the elevator is kaput, shabby though formerly elegant decor, homeless on nearby streets, though the street immediately outside was clear and felt safe and I didn't see any drug taking or pushing and I was never bothered anywhere. However, I rather liked both hotel and neighbourhood and felt it was OK value. One thing - when I extended my stay they raised the rate above the internet rate which was in the fifties to $70.\t]\n"
     ]
    },
    {
     "data": {
      "text/plain": [
       "textfiles = [value: string]\n"
      ]
     },
     "metadata": {},
     "output_type": "display_data"
    },
    {
     "data": {
      "text/plain": [
       "[value: string]"
      ]
     },
     "execution_count": 11,
     "metadata": {},
     "output_type": "execute_result"
    }
   ],
   "source": [
    "val documents = sc.textFile(\"../data/OpinRankDataset/hotels/small_sample/*\").toDF\n",
    "documents.take(1).foreach(println)"
   ]
  },
  {
   "cell_type": "code",
   "execution_count": 18,
   "metadata": {},
   "outputs": [
    {
     "data": {
      "text/plain": [
       "Name: Compile Error\n",
       "Message: <console>:43: error: not found: value shingleSet\n",
       "           val hashedShingles = shingleSet.map(x => hash(x))\n",
       "                                ^\n",
       "<console>:52: error: type mismatch;\n",
       " found   : Double\n",
       " required: Integer\n",
       "         hash\n",
       "         ^\n",
       "\n",
       "StackTrace: "
      ]
     },
     "execution_count": 18,
     "metadata": {},
     "output_type": "execute_result"
    }
   ],
   "source": [
    "import scala.util.hashing\n",
    "import scala.math\n",
    "\n",
    "def shingleDoc(doc: String, k: Integer) : (Set[Integer]) = {\n",
    "\n",
    "    var shingles : Set[String] = Set()\n",
    "    \n",
    "    // number of shingles = length/k\n",
    "    val n = doc.length/k\n",
    "    \n",
    "    // for loop slice string\n",
    "    for( i <- 0 to (n-1)){\n",
    "       shingles += doc.slice(k * i, k * (i+1))\n",
    "    }\n",
    "    // hash the set of shingles \n",
    "    val hashedShingles = shingles.map(x => hash(x))\n",
    "    hashedShingles\n",
    "}\n",
    "\n",
    "def hash(s: String) : (Integer) = {\n",
    "  // Hashes a string to one out of 2^32 buckets with mod(2^32)\n",
    "  val n = Math.pow(2, 32)\n",
    "  val intRep = s.getBytes.foldLeft(0)(_+_).asInstanceOf[Integer]\n",
    "  val hash = intRep % n \n",
    "  hash\n",
    "}\n",
    "\n",
    "\n",
    "// def Shingling - returns a k-shingle representation of a text document\n",
    "// can either use set or multiset (allowing multi occuring shingles)\n",
    "\n",
    "\n",
    "// comparesets that compares two sets of shingles and returns the similarity\n",
    "\n",
    "\n",
    "\n"
   ]
  },
  {
   "cell_type": "code",
   "execution_count": null,
   "metadata": {
    "collapsed": true
   },
   "outputs": [],
   "source": [
    "// def MinHashing - returns the minhash representation of a text document based on a shingling\n",
    "\n",
    "// def CompareSignatures a method compare "
   ]
  },
  {
   "cell_type": "code",
   "execution_count": null,
   "metadata": {
    "collapsed": true
   },
   "outputs": [],
   "source": [
    "// Main procedure\n",
    "\n",
    "val k = 10\n",
    "\n",
    "val shingleDocs = documents.map(Shingling, k)\n",
    "\n",
    "val refDoc = documents.take(1)\n",
    "\n",
    "val similarities = shingleDocs.map(x => compareSets(x, refDoc))\n",
    "\n",
    "similarities.collect.foreach(println)\n"
   ]
  }
 ],
 "metadata": {
  "kernelspec": {
   "display_name": "Spark - Scala",
   "language": "scala",
   "name": "spark_scala"
  },
  "language_info": {
   "codemirror_mode": "text/x-scala",
   "file_extension": ".scala",
   "mimetype": "text/x-scala",
   "name": "scala",
   "pygments_lexer": "scala",
   "version": "2.11.8"
  }
 },
 "nbformat": 4,
 "nbformat_minor": 2
}
