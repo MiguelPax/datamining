{
 "cells": [
  {
   "cell_type": "markdown",
   "metadata": {},
   "source": [
    "# Finding Similar Items: Textually Similar Documents\n",
    "\n",
    "\n",
    "## Task\n",
    "The task of this lab was to implement the stages of finding textually similar documents based on Jaccard similarity using the shingling, minhashing, and locality-sensitive hashing (LSH) techniques and corresponding algorithms. Theory can be found in the docs directory. \n",
    "\n",
    "## How to Run \n",
    "Run the code by sequentially executing each block of the code. Hyperparameters can be set for part 1, 2 and 3 under each parts respective section *Hyperparameters*. \n",
    "\n",
    "### All code by\n",
    "Philip Claesson and Miguel Maricalva"
   ]
  },
  {
   "cell_type": "code",
   "execution_count": 11,
   "metadata": {
    "collapsed": true
   },
   "outputs": [],
   "source": [
    "import pandas as pd\n",
    "import numpy as np\n",
    "import hashlib\n",
    "from OrderedSet import OrderedSet"
   ]
  },
  {
   "cell_type": "markdown",
   "metadata": {},
   "source": [
    "### Read Documents"
   ]
  },
  {
   "cell_type": "code",
   "execution_count": 12,
   "metadata": {
    "collapsed": true
   },
   "outputs": [],
   "source": [
    "import os\n",
    "\n",
    "path = \"../data/OpinRankDataset/hotels/small_sample/\"\n",
    "raw_documents = []\n",
    "\n",
    "for root, dirs, files in os.walk(path):  \n",
    "    for filename in files:\n",
    "        raw_doc = \"\"\n",
    "        with open(path + filename, encoding='utf-8', errors='replace') as f:\n",
    "            for line in f.readlines():\n",
    "                raw_doc += line\n",
    "        raw_documents.append(raw_doc)"
   ]
  },
  {
   "cell_type": "code",
   "execution_count": null,
   "metadata": {
    "collapsed": true
   },
   "outputs": [],
   "source": []
  },
  {
   "cell_type": "code",
   "execution_count": 13,
   "metadata": {},
   "outputs": [
    {
     "name": "stdout",
     "output_type": "stream",
     "text": [
      "9\n"
     ]
    }
   ],
   "source": [
    "## Number of documents\n",
    "print(len(raw_documents))"
   ]
  },
  {
   "cell_type": "code",
   "execution_count": 14,
   "metadata": {
    "collapsed": true
   },
   "outputs": [],
   "source": [
    "class Document: \n",
    "    def __init__(this, text, n_buckets, shingle_length, filename):\n",
    "        this.filename = filename\n",
    "        this.text = text\n",
    "        this.length = len(text)\n",
    "        this.n_buckets = n_buckets\n",
    "        this.shingle_length = shingle_length\n",
    "    \n",
    "    def createShingles(this): \n",
    "        this.shingles = OrderedSet()\n",
    "        \n",
    "        ## number of shingles = length/k\n",
    "        n = int(this.length/this.shingle_length)\n",
    "        \n",
    "        ## slice string\n",
    "        for i in range(n-1):\n",
    "            this.shingles.add(this.text[slice(this.shingle_length * i, this.shingle_length * (i+1))])\n",
    "    \n",
    "    def hashShingles(this):\n",
    "        this.hashedShingles = OrderedSet()\n",
    "        \n",
    "        for shingle in this.shingles: \n",
    "            this.hashedShingles.add(this.hashStr(shingle))\n",
    "    \n",
    "    def hashStr(this, string):\n",
    "        ## Hashes a string to an integer 0 <= i < n_buckets\n",
    "        return abs(hash(string)) % (this.n_buckets)\n",
    "    \n",
    "    def jaccardSimilarity(this, other): \n",
    "        ## Compares two docs based on the jaccard similarity of the hashed shingles. \n",
    "        intersection = (this.hashedShingles & other.hashedShingles)\n",
    "        union = (this.hashedShingles | other.hashedShingles)\n",
    "        return (len(intersection)/len(union))\n",
    "    \n",
    "    def createSignature(this, h):\n",
    "        ## builds a minHash signature (in the form of a vector or a set) of a given length n from a given set of integers (a set of hashed shingles).\n",
    "        this.signature = np.ones(h.n_hashes) * np.inf ## the signature has length k, corresponding to each hash\n",
    "        for i in range(h.n_hashes):\n",
    "            for e in this.shingles:\n",
    "                this.signature[i] = np.minimum(this.signature[i], h.hash(i, e)) # keep the smallest hash value of each hash function only\n",
    "        \n",
    "    def signatureSimilarity(this, other):\n",
    "        ## estimates similarity of two integer vectors – minhash signatures – as a fraction of components, in which they agree.\n",
    "        agree = 0\n",
    "        \n",
    "        for i in range(this.signature.size): \n",
    "            if (this.signature[i] == other.signature[i]): \n",
    "                agree += 1\n",
    "                \n",
    "        similarity = agree/this.signature.size\n",
    "        return similarity\n",
    "        "
   ]
  },
  {
   "cell_type": "code",
   "execution_count": 15,
   "metadata": {
    "collapsed": true
   },
   "outputs": [],
   "source": [
    "class Hasher: \n",
    "    def __init__(this, n_hashes, n_buckets): \n",
    "        ## A class that contains k random hash functions\n",
    "        this.n_hashes = n_hashes\n",
    "        this.n_buckets = n_buckets\n",
    "        \n",
    "        \n",
    "    def hash(this, i, string): \n",
    "        ## returns hash function i of x: h_i(x)\n",
    "        a = this.a_values[i]\n",
    "        b = this.b_values[i]\n",
    "        x = abs(hash(string))\n",
    "        return (a*x + b) % this.n_buckets\n",
    "    \n",
    "    def generateRandomHashFunctions(this):\n",
    "        # Each hash function is a function of random parameters a, b and c. \n",
    "        # create a and b values: 0 < random_interval_size\n",
    "        this.a_values = (np.random.rand(this.n_hashes) * this.n_buckets).astype(int)\n",
    "        this.b_values = (np.random.rand(this.n_hashes) * this.n_buckets).astype(int)\n",
    "        \n",
    "    def getHashMatrix(this, shingles):\n",
    "        # Creates a hash matrix based on an input array of shingles\n",
    "        # M(i, j) = h_i(e_j)\n",
    "        this.hash_matrix = np.zeros((this.n_hashes, shingles.size))\n",
    "        for i in range(this.n_hashes): # for each hash function\n",
    "            for e in shingles:\n",
    "                this.hash_matrix[i, j] = this.hash(i, e)\n",
    "                \n",
    "    "
   ]
  },
  {
   "cell_type": "code",
   "execution_count": 16,
   "metadata": {
    "collapsed": true
   },
   "outputs": [],
   "source": [
    "class LSH: \n",
    "    def __init__(this, n_rows, n_bands, t, n_buckets):\n",
    "        this.n_rows = n_rows # rows per band\n",
    "        this.n_bands = n_bands\n",
    "        this.t = t\n",
    "        this.n_buckets = n_buckets\n",
    "        this.hash_weights = (np.random.rand(this.n_rows) * n_buckets).astype(int)\n",
    "        \n",
    "    def getCandidatePairs(this, documents):\n",
    "        # takes a list of documents, returns a set of similar pairs based on LSH of their signatures. \n",
    "        bucket_doc_mat = np.zeros((this.n_buckets, len(documents)))\n",
    "        this.candidate_pairs = set()\n",
    "        for docindex, d in enumerate(documents):\n",
    "        # for each doc\n",
    "            for b in range(n_bands):\n",
    "            # for each band \n",
    "                band = d.signature[b * n_rows: (b+1) * n_rows]\n",
    "                hb = this.hashBand(band)\n",
    "                # hash band\n",
    "                # put 1 in bucket-doc matrix\n",
    "                bucket_doc_mat[hb, docindex] = 1\n",
    "\n",
    "        for bucket in bucket_doc_mat:\n",
    "        # for each bucket\n",
    "            doc_indices = np.nonzero(bucket)[0] # returns indices of all documents in the bucket\n",
    "            # add each pair to set\n",
    "            for d1 in doc_indices: # slow and stupid solution but concept works\n",
    "                for d2 in doc_indices: \n",
    "                    if (d1 < d2): ## make sure we just add each pair once..\n",
    "                        this.candidate_pairs.add((d1, d2))\n",
    "\n",
    "        return this.candidate_pairs\n",
    "    \n",
    "    def getSimilarPairs(this, documents):\n",
    "        ## Returns all similar pairs, based on candidate pairs and signature similarity >= t\n",
    "        this.similar_pairs = set()\n",
    "        for (d1, d2) in this.candidate_pairs: \n",
    "            if (documents[d1].signatureSimilarity(documents[d2]) >= this.t):\n",
    "                this.similar_pairs.add((d1, d2, documents[d1].signatureSimilarity(documents[d2])))\n",
    "\n",
    "        return this.similar_pairs\n",
    "    \n",
    "    def hashBand(this, band): \n",
    "        # takes the band (an array of integers) and hashes it to a\n",
    "        band_weight_sum = 0\n",
    "        for i, row in enumerate(band):\n",
    "            band_weight_sum += (this.hash_weights[i] * row) \n",
    "            \n",
    "        hashed_band = int(band_weight_sum % this.n_buckets)\n",
    "        return int(hashed_band)\n",
    "    \n",
    "    "
   ]
  },
  {
   "cell_type": "markdown",
   "metadata": {},
   "source": [
    "# 1. Jaccard Similarity of sets \n",
    "\n",
    "- Create shingle representation\n",
    "- Create hashed version of the representation. \n",
    "- Compute Jaccard Similarity of documents based on sets of hashed shingles \n",
    "\n",
    "\n",
    "## Hyperparameters\n",
    "\n",
    "#### n_buckets\n",
    "The number of hash buckets (or the number of different possible output values for the hash function). A high n_buckets will yield low similarity measures, because more possible hash values means fewer shingles will be hashed to the same buckets.\n",
    "\n",
    "#### shingle_length\n",
    "The number of characters in each shingle. Large value will yield low similarity measures, as there will be more combinations of shingles. "
   ]
  },
  {
   "cell_type": "code",
   "execution_count": 17,
   "metadata": {
    "collapsed": true
   },
   "outputs": [],
   "source": [
    "n_buckets = 2 ** 11 # number of hash buckets. This strongly affects the measure of similarity\n",
    "shingle_length = 10"
   ]
  },
  {
   "cell_type": "markdown",
   "metadata": {},
   "source": [
    "### Create documents. add to an array Documents\n"
   ]
  },
  {
   "cell_type": "code",
   "execution_count": 19,
   "metadata": {},
   "outputs": [],
   "source": [
    "documents = []\n",
    "for i, d in enumerate(raw_documents):\n",
    "    documents.append(Document(d, n_buckets, shingle_length, filename = files[i]))\n"
   ]
  },
  {
   "cell_type": "markdown",
   "metadata": {},
   "source": [
    "### Example of document: "
   ]
  },
  {
   "cell_type": "code",
   "execution_count": 20,
   "metadata": {
    "scrolled": true
   },
   "outputs": [
    {
     "data": {
      "text/plain": [
       "\"Oct 30 2009 \\tOK value though shabby; good position.\\tI extended a one night stay to three. The staff were basically helpful when asked. My room was clean, comfortable, and daily serviced. I think the position is good for a budget hotel, near the Golden Gate theatre, right by Asian Arts Museum and Civic Centre. It's an old and architecturally atmospheric hotel.Negatives: it is very badly neglected. Things that might put you off are the need usually to ring the outside doorbell and wait to get someone to the unattended reception, unreliable breakfast availability (nil when I was there but I can see from other reviews that it can appear!), a very unreliable (but rather beautiful) classic Otis elevator, some very dilapidated corridors on the way to your room when the elevator is kaput, shabby though formerly elegant decor, homeless on nearby streets, though the street immediately outside was clear and felt safe and I didn't see any drug taking or pushing and I was never bothered anywhere. However, I rather liked both hotel and neighbourhood and felt it was OK value. One thing - when I extended my stay they raised the rate above the internet rate which was in the fifties to $70.\\t\\nJul 17 2009 \\tdon't take it unless you like bugs :)\\tDespite it's old fashioned, I expexted it to be at least nice. The elevator was not working, so we had take take our stuff to the 4th floor ourselves, taking into account, that the floors are much higher than average. We found bugs in the room. The neighbourhood of the hotel isn't pleasant, I mean poeple. Although it is not far from places of interest and shopping centers.Anyway, not very good memories from this hote.\\t\\nApr 21 2009 \\tunexpected surprise\\tAfter reading the reviews I was expecting the worst... the hotel is comfortable, large rooms and friendly staff. Free breakfast was included which is a lot more than what we got in other much more expensive hotels we stayed in in California. The area which the hotel is in is indeed ghetto, drug dealers and users but they keep themselves to themselves. A bus or taxi is advisable to the centre as it is a distance to the main attractions. It is a budget hotel and doesn't claim to be anything else, worth the money and if you are travelling it is ideal. San Fran is really awesome ( least place we were looking forward to whilst travelling California) however it proved to be amazing. We cycled golden gate bridge, went to Alcatraz, countless bars and restaurants and lombard road is neat too! If you are staying for a short time then the Abigail is fine and a normal breakfast of toast and juice is what most people desire for breakfast not stacks of pancakes and fried food. Well done Abigail for getting this right! Oh and there is free internet in the lobby.\\t\\nDec 9 2008\\tYou get what you pay for!!! BEWARE OF DRUGGIES\\tThere's really no where to park but on the street (parking meters) if you're lucky enough to find a spot! The first night we arrived we parked around the corner of the hotel and there were people dealing/smoking crack right on the sidewalk. I know they saw us but obviously didn't care. The alley on the side of hotel is a place for homeless to also do drugs or pass out. Hotel room was clean and cozy but they painted the inside of the bathtub and the whole bottom was peeling. I wore sandals in the shower. Breakfast was just toast with jelly and coffee, tea, and juice. Front desk was nice. Hotel is close to shopping mall/farmer's market. Wouldn't recommend to anyone with children! Overall the hotel was ok for $50 a night, but would rather pay extra $$ for a nice hotel, just to not deal with crackheads!\\t\\nSep 1 2008 \\tGreat place to stay if you're young.\\tMy friend and I stayed here for a total of four nights and had a great time. All the other tenants in the hotel were very nice and so were to hotel staff. The hotel itself had a very quaint, old romantic feeling that both of us liked and the elevator was really old and awesome. I am disappointed to read that people paid less than I did to stay in the hotel considering that I thought I got a pretty good rate at $69 per night. Within walking distance to BART station, bus stops, restaurants and a neat farmers market that I saw Sunday and Monday morning. I will certainly be staying here again if I should return to San Francisco.\\t\\nApr 24 2008 \\tGot we paid for- but very cheap\\tStayed with my wife for 9 nights. $30 US a night was great! Was in what some may think is a dodgy neighbourhood, but we had no problems. Geat access to public transport. Main issue was bad plumbing- toilet often blocked and had to move rooms once. Service was also very minimal. But for the price we couldnt complain too much.\\t\\nApr 20 2008 \\tHorror Hotel\\tI stayed at this hotel with a friend due to its close proximity to a concert we were attending down the street at the Warfield. What a mistake!!! Yeah it had old decor and I couldn't fit on the bed ( I'm 6'3). but all off that pales in comparison to what I found in the bathroom. I noticed that the cute country style mirror was set in a window frame. So my first thought is &quot; I wonder if his opens like a window?&quot; so I grab the window frame and what do ya know it opened right up. So there I am standing in the bathroom staring through a hole in the wall into a dark hallway about four feet wide that ran the length of our room. So now I'm wondering if my mirror might be one-way and I'm afraid to shower or use the toilet. I also can't sleep the entire night from the fear of someone entering our room through this mirror. At different points through the night my friend and I could hear people in this vacant area outside our room. It felt like a bad horror movie. At least we could watch the Dealers selling crack outside our window all night for entertainment while we weren't sleeping. To sum up: I will not be staying at this hotel again.\\t\\nApr 18 2008 \\tTotally misleading!\\tThis was the worst hotel ever!!! When I looked it up on line it looked ok, but when I got there I was really surprised. It looked NOTHING like the on-line photo's, looking really run down. My room was crappy as well, and the bathroom looked like a total dump! I didn't even feel safe in the hotel, nor did I feel safe walking around outside since the hotel's in gangster-land. No wonder it's so cheap! DO NOT STAY HERE (seriously).\\t\\nMar 12 2008 \\tThis Place Is Hell!!!!!\\tMy hubby and I came here for our anniversary and WOW was it ever ruined. when we first checked in, our room was not ready and so they went to put us on the 5th floor and the door looked like it had been kicked in and the people 3 rooms down was really loud having relations went to complain that we could not get into room and they said that they were going to put our things into another room until original room was cleaned and we went into room and I was pissed because there was drug paraphenalia all over the room and I took a first aid glove and picked up the crack pipe and took it to the front desk and the guy had the galls to insinuate that it was mine and I got mad and left for awhile and when we came back they moved us to another room and the mirror was on the floor by the wall and there was twin beds and we were right next to the antique elevator and ever time sone one came on or off of it the door slammed and woke us up. we left early and complained to the Howard Johnson Corporation and all the did was send us a coupon for $25.0 off saying that we can use it on our next visit. YEAH RIGHT!!!\\t\\nFeb 19 2008 \\tDo Not Stay Here\\tWe knew upon booking that The Abigail was not a 5-star hotel and we did not expect it to be. However, we expected something better than a hostel in Europe. We were sadly mistaken. Upon arrival (11 am), we were told that check-in was not until 3 pm and there were no rooms available at all. After checking or bags at the desk and walking around until 3 pm we returned to check in. We then found out that we had 2 double beds instead of a queen that we requested. We were told no other rooms were available at all and we would have to take that room. We then discovered there was no ice machine in the hotel (yet they had ice buckets and glasses in the room; go figure). There were no electrical outlets in the room, only extension cords that magically came up from the base boards (that can't be up to fire code) and if that was not weird enough, only 2 outlets out of 4 on the extension cord actually worked. The walls throughout the hotel were dented and mudded, but never painted again. We found mold growing in our room (um health liability) and the front desk clerks would have been better suited to work fast food than to be at the front desk of a hotel. Even if you are on a budget, STAY AWAY from the Abigail, sometimes saving money is not worth the annoyances and problems you get into.\\t\\nFeb 2 2008 \\tScabbi-Gail Hotel\\tWe stayed in the Abigail Hotel for 5 nights, we chose it as it was the cheapest we could find and we were on a strict budget!Having read the other reviews we were not expecting The Ritz but it was disappointing. We arrived at 1am, after being up 24hrs travelling from the UK. Our taxi driver told us we were on the outskirts of the 'rough' area, and advised us not to go past our road!The hotel was shabby and dated, there were also lots of down and outs roaming the streets as well! The man on reception was very helpful (and staff were excellent throughout our stay)The lift was small and rickety. Our room was on the top floor facing the nearby Asian Arts museum.I have to say that the hotel would have failed miserably on a Health &amp; Safety inspection (see photos), the windows were cracked, some were nailed shut, others did not shut properly!! The plug sockets were obviously dangerous, with masking tape and dodgy wiring.The bedsheets (although clean) had cigarette burns in them. The bed was clean and comfortable though.Noise wasnt too much of a problem, with either traffic or nearby locals. We both had jetlag so went to bed about 9pm each night and were awake by 5am so sat in bed watching local news reports of nearby shootings!! We were out all day and so only used the hotel as a base.We had been advised at the time of booking that the hotels restaurant was closed for refurbishment, but there was a lovely bar/bistro on the corner by the hotel, which showed films on a monday night, and had a very friendly helpful barman!Be warned that the hotel is near to some very dubious areas, and when walking back from the cinema/shopping centre we took a wrong turning and ended up in some very unsavour streets! The bus stop taking you to the Harbour/Pier 39 etc is just across the road so definitely use this if you are travelling back in the evenings.I have given this hotel a 2 out of 5 as the staff were very good and helpful.\\t\\nJan 16 2008 \\tOK little hotel good location\\tGot this hotel for $50/nt and stayed for two nights. It was OK for the price and location. The front desk was good and friendly, but not informative at all about the city. It's just opposite the Asian Art Museum and next to Civic Center, City Hall, Market Street, and Civic Center BART/Muni Station. Chinatown and Union Square are also in a short-walk distance. It's in a good location to get around this city.We initially booked for a double-bed room, but got a king bed instead. However, the room is quite small with a TV, a working desk, and a small love seat . You have a very little area to walk around the bed. Bathroom is rather old, but clean. The hallway is clean and nothing looks like some images posted in the past even though they're still renovating a few guest rooms. The worst thing during our stay is that the room was quite cold at night as the heater in our room in the 6th floor didn't work well. We asked them to fix that, but it didn't help. As other reviews mentioned about the homeless, I didn't see a lot of them. Maybe it's too cold and wet during this time of year for them to wander around.Overall, it's good value for budget-mined travellers.\\t\\nJan 10 2008 \\tFlop-House In Skid Row\\tI have never had such a horrifying experience at a hotel in my life! (and hopefully never will again) Upon entering the &quot;inner sanctum&quot;, better known as the lobby, we were greeted by a not-so-friendly desk clerk, whom, I guess doubled as night watchman,( since he later sacked out on the lobby sofa, snoring as we passed by upon returning in the evening.) The elevator was so rickety and small, you could barely get on with a small suitcase. The floor had a mushy bounce to it, and it felt like it was lined with cardboard. As it lurched into its ascent, I remember reciting the Lord's Prayer. When we finally reached our floor, I was still praying as we opened the door to the &quot;little shop of horrors.&quot; The exposed wires of a single light bulb dangled from the ceiling fan, which more resembled an interrogation device rather than an actual fixture. The other code violations and many infractions we took note of are too numerous to mention here. That night, when we returned to our hotel room, exhausted from walking around the area in search of alternate options for lodging, which my son found on line, we were about to climb into bed, when I noticed the stained and dingy-looking bed linen. We went down to our vehicle and brought up a blanket and laid it on top of the bed, where we &quot;slept&quot; fully clothed, ready to depart at day-break. Unfortunately, not much sleep actually occurred because we were awakened to the sounds of very loud arguing and screaming emanating from the run-down building next door to the hotel. This went on until day-break, when my husband turned to me and said , &quot;Are you ready?&quot; , to which I wasted no time jumping off that flea-bag bed, grabbing our belongings, and racing to the rickety elevator. As we flew by the front desk, bags in hand, I heard the clerk inquire &quot;Are you coming back?&quot;, to which I hollered over my shoulder, &quot;NO! I will never come back here again!&quot; As we pulled away from the curb, I bade goodbye to the Abigail Hotel (and the reprobate urinating on the lamp post outside the building) NEVER AGAIN!!\\t\\nNov 15 2007 \\tNice clean hotel great for the price!\\tWe stayed at this hotel recently and I had booked it after reading the latest Oct 2007 reveiws and yes I have to agree with them that although its not the best hotel in town, I dont think you could get a better deal for the price and loctaion in downtown San Francisco. The hotel is neat and clean, yes it is old but if you are looking to just sleep during the night its a good place. We were in SFO for a short time and were mostly out exploring the city during the day, so it worked out great for us. Its definitely not the place for you if you have in mind a relaxing hotel stay! The staff is curteous and quite helpful\\t\\nOct 21 2007 \\tWe found this hotel to be quite quaint and charming.\\tThe owner took a personal interest in us. We were always greeted upon entering the hotel. The room was very clean, with the housekeeping staff coming in daily to change the linen and towels. On our first day there, they called the cab company for us to get to the hospital on time. We live in the country and really dislike city living, but the staff at the Abigail made us feel at home.For the price, you can't beat it.4 STARSEndorsed by Dalevis (An Elvis Tribute Artist)\\t\\nJun 8 2007\\tGood location and a cute hotel!\\tI found the Abigail Hotel to be very agreeable, especially for the price. The room was spacious and clean, with new locks and lighting fixtures. The staff was always friendly and seemed hard-working. This hotel is in a great location - a short walk away from the Opera House and Market Street, and not too far by foot from Chinatown or Union Square, if one doesn't mind a short hike. The only downsides I could find were that the hotel is rather old and in need of cosmetic renovation (though that in no way reflects the quality of service and room comfort), and that the area in which it is located - the Civic Center - is a little seedy. However, we had a great experience there and really enjoyed our stay!\\t\\nMar 14 2007 \\tOK for the Price; Excellent customer service\\tWell, I read the previous comments and all I can say is that I had a different experience. Staff was very proactive and educated, willing to help all the time. The room was good for the price. Location in downtown, you cannot beat that. I know, it is not the GREATEST place on earth, but they are trying to provide a clean and good service. I definetely come back to the Abigail Hotel and I hope that you do so too. RELAX.AGAIN, it is not the best for the &quot;picky&quot; individuals.\\t\\nOct 10 2006 \\tThe Worst Hotel in the US\\tWe stayed in this hotel the past weekend, Oct 6, 2006, on our weekend getaway to SF. I'm not a picky one or could care less about fancy hotels but boy, this was something. When you just enter the hotel, it looks old and has this smell to it but they were remodeling the lobby, so, we didn't care. We had a room on the 5th floor and when we entered, I was shocked. Check out the pictures posted in one of the other reviews. That's exactly how the room looked like - broken cabinet doors, chipped ceiling/walls, no curtains, dirty windows, a dirty bathroom. The worst thing was the bed itself. The sheets were dirty, had &quot;stains&quot; on them and there was cigarette smoke smell everywhere. We went downstairs and asked for a new blanket. The guy brought a new one but didn't take the old one and told us to throw it on the floor. He still didn't offer to change the bed sheets and the pillow covers. It was too late for us to go anywhere else and were forced to spend the night there. I honestly think that it's hazardous to stay here. They must be in violation of some sort of laws. My nose was swollen the next morning. It was so terrible that come next morning, we checked out. I beg everybody to please DO NOT check into this hotel. There are other very affortable hotels around that are CLEAN. For example, just blocks away is Red Coach Lodge - that's where we stayed our second night.\\t\\nJun 29 2006 \\teven the fleas have fled\\tWe left booking a hotel until the last minute, which gave us few options. On walking up to the Abigail we were a little put off by the ideal location - ideal for the Pride festival being right in the middle of the Civic Center, but every street was awash with litter and debris and winos and other homeless slept in the alleys and doorways near the hotel.The entrance door is flanked by a large early art deco stained glass leadlight that is broken and held together with duct tape - very classy. The entrance foyer is carpeted in a dark red carpet with holes and worn patches. Everything appears to have a coat of paint for each year of operation, some of it flaked off in patches, but just painted over again. Lead poisoning here we come.The first flight of stairs is dangerous - very steep with small width steps, but the warning sign to hold on to the stair rail is at the top of the stairs, and the stair railing is coming away from the wall - a good tug, or the weight of a body grabbing it in a fall will send you crashing down about 15 feet to the floor below.The old-style elevator has no handle on the concertina grill door - meaning you squash your hand if you don't remove it quickly enough.Each floor is the same as the last - with flaking paint and other debris littering the carpet, and evicted residents' belongings and broken appliances left in the hallways.The smoke alarm was broken in our room, as was one of the sash windows - crashing down after I opened it - lucky my head wasn't in the open space - not that there is a view - it looks into an alleyway each side, in which the bag ladies and bagmen sleep in all their stench and glory. There was also no floor plan map on the back of the door to explain where the fire exits where in the case of an emergency.We noticed the certificate for the saftey of the elevator expired in June 2005, a point we took up with the State department responsible even though the duty manager (who gave his names as Andy, Andy Patel, and Andy Suchek) lied many times to us about how they did have a valid certificate at the office and it was being faxed for us to see. We never did get to see it. The fire hose certificate on floor 4 was also expired, but at least the fire extinguisher certificate was current by six months.The bathroom was ventilated with a sash window painted over (and over) opening into a shaft that smelled as if a pigeon had lain deceased at the bottom for some months. No shelf to put your shampoo or makeup on either. When we arrived late in the day, there were no towels other than an old handtowel. When we finally received the full quota of bath linen two days later they were so small and threadbare. A towel when held vertically stretched from the floor to just above the knees - I am 5' 10&quot;.The bed was a king size which would have been lovely except that it left little room in the room for the other furniture - we banged our shins many times getting around the bed. It was made up with white poly/cotton sheets - for a double bed, judging by the amount on each side they were too short. We had to show the Indian maid how to make up the bed with the sheets going north/south instead of east/west. She was right to make the beds east/west though as that was the only way the sheets fitted!!!The blanket had as many holes in it as we stayed nights (six) and the quilted cover had cigarette burns in it, as did the side table.The armchair was covered with a slip cover that was long in need of a good wash - especially as it was splattered with dried blood down one side! Hepatitus B and C here we come!The room carpet was worn and very stained, even more so when at three one morning we awoke to the sound of running water only to find the light fitting above the door was gushing water from the floor above. The carpet remained soggy for the remainder of our stay, even though we were assured they had a wet/dry vacuum cleaner to deal with it.It looks like every problem is fixed by a near-sighted home-handyman - the type that smears plaster over cracks and holes but doesn't sand it smooth before applying liberal coats of paint. This was evident in three large cracks around the ceiling fan, the bedroom wall light switch, the bathroom sink wall mounts, and numerous holes and such patched on each floor in the stairwell.A small bar fridge and microwave was in the room as well as a very large television. Of the 80 or so channels it recieved only two were clear enough to view. The microwave was placed precariously on top of the bar fridge which was too low down on the floor to be comfortably used and the fridge was too large to fit in the aperture for it in the enormous wall unit housing the huge tv. We moved the microwave to atop the large desk taking up an entire corner of the room.The telephone did not work at all, we complained twice and when it was finally fixed, it did not accept 1-800 numbers - we had to make those from a payphone downstairs - a bit difficult to ring up the 1-800 numbers for an alternative hotel. There was also no schedule of charges in the room for such things as stealing the towels or making toll calls.We stayed the length of our stay (six nights) because we had no other place to stay, and accomodation was at a premium due to the Pride festival. We can't say it was clean - as it wasn't. We can't say it was comfortable, as it wasn't when we had to chase bed sheets around all night, and worried over how the huge cracks in the celing surrounding the celing fan mount got there...It certainly wasn't quiet. The smell of the dehydrating pigeon and the years of &quot;residents&quot; in the room meant we kept the one operating window wide open, but it let in the noise of sirens and homeless derelicts fighting in the alley below.Luckily we were usually exhausted from our daily excursions and slept fairly well.With the right owners, managers and staff this could be a boutique hotel commanding more moderate prices, but the cheap cost-cutting and building violations going on in the name of saving a few bucks on maintenance have left this place a death trap.The City and County of San Francisco acted quickly sending a building inspector around on Tuesday (we complained Monday) and he rang me in LA to say they had violated many areas of the building code and were issued with an infringement notice. Hopefully the State Dept responsible for the safety cert for the elevator will act accordingly also.The only good thing about the hotel was it's central location th BART, MUNI, and the Pride Festival. Certainly not worth the fifty dollars nightly we paid to sleep in a death trap, but worth fifty a night once they clean up their act.feel free to email for photos too large to post on site. rosebush40@yahoo.co.nzBruce GrovesRose Bush Entertainments(--)\\t\\nJun 8 2006\\tThe worst hotel I have ever stayed at in the world\\tI do not recommend this hotel at all!!! I stayed at the Abigail Hotel (March 10-March 13, 2006). It is the worst hotel that I have ever stayed at. I have posted some photos from my visit. I booked this hotel since it had OK reviews on other websites. I booked two non-smoking rooms and was told that they could not guarantee that the guests had not been smoking there. They even have a no smoking sign on the 6th floor, but I guess it doesn't matter... One of the rooms on the 6th floor was OK (not smelling like a bar), but the other one had both an ash tray in it as well as it was stinking of smoke. I went to the reception and he offered me another room, also smoky, then another room on the 5th floor which was even worse. The corridor had not been cleaned in weeks, with dirt and things lying around on the floor, so I went to the reception once again and I was offered another room on the 6th floor. They did not have an extra key for that one, so someone from the reception would have to accompany me and my husband to open the door every time we needed to enter. Well, I said that was unacceptable, so finally the receptionist found another room on the 6th floor that did not smell. By then I was so tired that I accepted the room.On of the old windows in the entry was broken and has been taped together and it looks unfinished. The owners/employees are not too friendly and hardly says hello when you pass them. The famous Millennium Vegetarian Restaurant has moved to another location, contrary to what it says on other websites.\\t\\nMar 21 2006\\tAbigail you're a major disappointment!\\tThis hotel was nothing like the image created by its website. I was expecting a homely bijoux hotel, but was greeted by a cold and dark hallway and an even colder room.The ratings on a series of sites ranged from 3*to 5*, so I was hoping for a modicum of cleanliness. Again, I was disappointed.Staff, though friendly, were of not much use. On my first day, upon enquring which direction I should go in (I'd read warnings about the area several blocks away, so wanted to avoid it) the receptionist apologised that she wasn't from the area and didn't know which direction the hotel faced!I understood from the one other guest I met whilst there that in 2003 it was indeed a lovely hotel, but those owners had left. This is a shame, as it's location is excellent.\\t\\nNov 22 2005\\tThe rat hole\\t&quot;We took one look at the room and walked out, there was no way we would stay there and I would not recommend it to my worst enemy.&quot; Windows were broken, holes from cigarettes in the beds. Sheets were ripped-off. Carpet was covered with dirt. Personal told us that it was &quot;the best room they had&quot;. My daughter almost cried...\\t\\nSep 12 2005\\tA dump\\tDefinatly nothing like the description that we were given by our agents.We found the same conditions as the previous review. There was supposed to be air conditioning, our room had a ceiling fan and an old cast iron radiator and the elevator was out of order.We took one look at the room and walked out, there was no way we would stay there and I would not recommend it to my worst enemy.\\t\\nJul 8 2005\\tWhat a dump!\\tIf you read any descriptions of the Abigail Hotel, forget them. The hotel must have changed hands since they were written.There is no Millennium Vegetarian Restaurant, bar, lounge, room service, parking or coffee making facilities.The hotel is now mainly residential.The room and furnishings were grubby, there were holes in the curtains and bedding, the TV was unwatchable.Staff were unhelpful, the maid didn't turn up, we were not given clean towels (we were told there weren't any).We had booked a quad room, for 3 adults. We were given a double room with one double bed and one folding &quot;camp bed&quot;.If you want a good, budget hotel in San Francisco, try the Air Travel.\\t\\nApr 30 2005\\tYou need to be street wise!\\tWe stayed 2 weeks for $35 per night for a dbl rm. Fantastically cheap (via an agent in London) bt you get what you pay for. Clean room bt desperately old decor. Cigarette burns on the carpet and (clean) bedding. Rm cleaned/bed changed every 3 days. Web page totally inaccurate. No restaurant (famous veggie restaurant closed years ago), no tea/coffee making facilities, staff pleasant bt uninterested and no additional information or tourist advice given but for leaflets in the slightly grubby foyer. Area is incredible - our view was the beautiful City Hall but it is also a rough neighborhood so hence the title of this review! While we were there we heard arguments with the Hotel Manager and long term residents, the glass of the foyer front door was kicked in and the police visited once to evict a tenant.I would suggest young, travel wise backpackers stay here for a few nights only.Traditional tourists; you won't like it. Families with children; absolutely not.\\t\\nSep 28 2004\\tNot bad for the price.\\tI found this hotel at the last minute for a three night stay in September 2004. It is an odd place. It is a Howard Johnson hotel, but is really part hotel and low-income residence. The front part of the building is a hotel, the rest are tenant-occupied. For this reason it is a little unnerving. The rooms are clean, just a little worn. They look like old studios quickly converted to hotel rooms with TV armoires in front of an old closet door. The rates were cheap and the staff nice but they weren't very fluent in English. No parking available. Close to Civic Center and easy to walk to Market Street.\\t\\nSep 10 2009 \\tImmonde et Insalubre\\t\\t\\nSep 7 2009 \\tAttenzione attenzione lasciate perdere\\t\\t\\nJul 25 2007 \\t50:50\\t\\t\\nDec 31 2006\\tH�tel � �viter !\\t\\t\\nSep 26 2006 \\tNON METTETECI PIEDE! DON'T COME IN THIS HOTEL. WARNING RAT!\\t\\t\\n\""
      ]
     },
     "execution_count": 20,
     "metadata": {},
     "output_type": "execute_result"
    }
   ],
   "source": [
    "documents[0].text"
   ]
  },
  {
   "cell_type": "code",
   "execution_count": null,
   "metadata": {
    "collapsed": true
   },
   "outputs": [],
   "source": []
  },
  {
   "cell_type": "code",
   "execution_count": 21,
   "metadata": {},
   "outputs": [
    {
     "name": "stdout",
     "output_type": "stream",
     "text": [
      "Jaccard Similarity of doc 1 and doc 2 is 0.49853085210577863\n"
     ]
    }
   ],
   "source": [
    "for d in documents: \n",
    "    d.createShingles()\n",
    "    d.hashShingles() \n",
    "    \n",
    "print(\"Jaccard Similarity of doc 1 and doc 2 is {}\".format(documents[1].jaccardSimilarity(documents[2])))"
   ]
  },
  {
   "cell_type": "code",
   "execution_count": 22,
   "metadata": {},
   "outputs": [
    {
     "data": {
      "text/plain": [
       "OrderedSet(['Oct 30 200', '9 \\tOK valu', 'e though s', 'habby; goo', 'd position', '.\\tI extend', 'ed a one n', 'ight stay ', 'to three. ', 'The staff ', 'were basic', 'ally helpf', 'ul when as', 'ked. My ro', 'om was cle', 'an, comfor', 'table, and', ' daily ser', 'viced. I t', 'hink the p', 'osition is', ' good for ', 'a budget h', 'otel, near', ' the Golde', 'n Gate the', 'atre, righ', 't by Asian', ' Arts Muse', 'um and Civ', 'ic Centre.', \" It's an o\", 'ld and arc', 'hitectural', 'ly atmosph', 'eric hotel', '.Negatives', ': it is ve', 'ry badly n', 'eglected. ', 'Things tha', 't might pu', 't you off ', 'are the ne', 'ed usually', ' to ring t', 'he outside', ' doorbell ', 'and wait t', 'o get some', 'one to the', ' unattende', 'd receptio', 'n, unrelia', 'ble breakf', 'ast availa', 'bility (ni', 'l when I w', 'as there b', 'ut I can s', 'ee from ot', 'her review', 's that it ', 'can appear', '!), a very', ' unreliabl', 'e (but rat', 'her beauti', 'ful) class', 'ic Otis el', 'evator, so', 'me very di', 'lapidated ', 'corridors ', 'on the way', ' to your r', 'oom when t', 'he elevato', 'r is kaput', ', shabby t', 'hough form', 'erly elega', 'nt decor, ', 'homeless o', 'n nearby s', 'treets, th', 'ough the s', 'treet imme', 'diately ou', 'tside was ', 'clear and ', 'felt safe ', 'and I didn', \"'t see any\", ' drug taki', 'ng or push', 'ing and I ', 'was never ', 'bothered a', 'nywhere. H', 'owever, I ', 'rather lik', 'ed both ho', 'tel and ne', 'ighbourhoo', 'd and felt', ' it was OK', ' value. On', 'e thing - ', 'when I ext', 'ended my s', 'tay they r', 'aised the ', 'rate above', ' the inter', 'net rate w', 'hich was i', 'n the fift', 'ies to $70', '.\\t\\nJul 17 ', \"2009 \\tdon'\", 't take it ', 'unless you', ' like bugs', ' :)\\tDespit', \"e it's old\", ' fashioned', ', I expext', 'ed it to b', 'e at least', ' nice. The', ' elevator ', 'was not wo', 'rking, so ', 'we had tak', 'e take our', ' stuff to ', 'the 4th fl', 'oor oursel', 'ves, takin', 'g into acc', 'ount, that', ' the floor', 's are much', ' higher th', 'an average', '. We found', ' bugs in t', 'he room. T', 'he neighbo', 'urhood of ', 'the hotel ', \"isn't plea\", 'sant, I me', 'an poeple.', ' Although ', 'it is not ', 'far from p', 'laces of i', 'nterest an', 'd shopping', ' centers.A', 'nyway, not', ' very good', ' memories ', 'from this ', 'hote.\\t\\nApr', ' 21 2009 \\t', 'unexpected', ' surprise\\t', 'After read', 'ing the re', 'views I wa', 's expectin', 'g the wors', 't... the h', 'otel is co', 'mfortable,', ' large roo', 'ms and fri', 'endly staf', 'f. Free br', 'eakfast wa', 's included', ' which is ', 'a lot more', ' than what', ' we got in', ' other muc', 'h more exp', 'ensive hot', 'els we sta', 'yed in in ', 'California', '. The area', ' which the', ' hotel is ', 'in is inde', 'ed ghetto,', ' drug deal', 'ers and us', 'ers but th', 'ey keep th', 'emselves t', 'o themselv', 'es. A bus ', 'or taxi is', ' advisable', ' to the ce', 'ntre as it', ' is a dist', 'ance to th', 'e main att', 'ractions. ', 'It is a bu', 'dget hotel', ' and doesn', \"'t claim t\", 'o be anyth', 'ing else, ', 'worth the ', 'money and ', 'if you are', ' travellin', 'g it is id', 'eal. San F', 'ran is rea', 'lly awesom', 'e ( least ', 'place we w', 'ere lookin', 'g forward ', 'to whilst ', 'travelling', ' Californi', 'a) however', ' it proved', ' to be ama', 'zing. We c', 'ycled gold', 'en gate br', 'idge, went', ' to Alcatr', 'az, countl', 'ess bars a', 'nd restaur', 'ants and l', 'ombard roa', 'd is neat ', 'too! If yo', 'u are stay', 'ing for a ', 'short time', ' then the ', 'Abigail is', ' fine and ', 'a normal b', 'reakfast o', 'f toast an', 'd juice is', ' what most', ' people de', 'sire for b', 'reakfast n', 'ot stacks ', 'of pancake', 's and frie', 'd food. We', 'll done Ab', 'igail for ', 'getting th', 'is right! ', 'Oh and the', 're is free', ' internet ', 'in the lob', 'by.\\t\\nDec 9', ' 2008\\tYou ', 'get what y', 'ou pay for', '!!! BEWARE', ' OF DRUGGI', \"ES\\tThere's\", ' really no', ' where to ', 'park but o', 'n the stre', 'et (parkin', 'g meters) ', \"if you're \", 'lucky enou', 'gh to find', ' a spot! T', 'he first n', 'ight we ar', 'rived we p', 'arked arou', 'nd the cor', 'ner of the', ' hotel and', ' there wer', 'e people d', 'ealing/smo', 'king crack', ' right on ', 'the sidewa', 'lk. I know', ' they saw ', 'us but obv', 'iously did', \"n't care. \", 'The alley ', 'on the sid', 'e of hotel', ' is a plac', 'e for home', 'less to al', 'so do drug', 's or pass ', 'out. Hotel', ' room was ', 'clean and ', 'cozy but t', 'hey painte', 'd the insi', 'de of the ', 'bathtub an', 'd the whol', 'e bottom w', 'as peeling', '. I wore s', 'andals in ', 'the shower', '. Breakfas', 't was just', ' toast wit', 'h jelly an', 'd coffee, ', 'tea, and j', 'uice. Fron', 't desk was', ' nice. Hot', 'el is clos', 'e to shopp', 'ing mall/f', \"armer's ma\", 'rket. Woul', \"dn't recom\", 'mend to an', 'yone with ', 'children! ', 'Overall th', 'e hotel wa', 's ok for $', '50 a night', ', but woul', 'd rather p', 'ay extra $', '$ for a ni', 'ce hotel, ', 'just to no', 't deal wit', 'h crackhea', 'ds!\\t\\nSep 1', ' 2008 \\tGre', 'at place t', 'o stay if ', \"you're you\", 'ng.\\tMy fri', 'end and I ', 'stayed her', 'e for a to', 'tal of fou', 'r nights a', 'nd had a g', 'reat time.', ' All the o', 'ther tenan', 'ts in the ', 'hotel were', ' very nice', ' and so we', 're to hote', 'l staff. T', 'he hotel i', 'tself had ', 'a very qua', 'int, old r', 'omantic fe', 'eling that', ' both of u', 's liked an', 'd the elev', 'ator was r', 'eally old ', 'and awesom', 'e. I am di', 'sappointed', ' to read t', 'hat people', ' paid less', ' than I di', 'd to stay ', 'in the hot', 'el conside', 'ring that ', 'I thought ', 'I got a pr', 'etty good ', 'rate at $6', '9 per nigh', 't. Within ', 'walking di', 'stance to ', 'BART stati', 'on, bus st', 'ops, resta', 'urants and', ' a neat fa', 'rmers mark', 'et that I ', 'saw Sunday', ' and Monda', 'y morning.', ' I will ce', 'rtainly be', ' staying h', 'ere again ', 'if I shoul', 'd return t', 'o San Fran', 'cisco.\\t\\nAp', 'r 24 2008 ', '\\tGot we pa', 'id for- bu', 't very che', 'ap\\tStayed ', 'with my wi', 'fe for 9 n', 'ights. $30', ' US a nigh', 't was grea', 't! Was in ', 'what some ', 'may think ', 'is a dodgy', ' neighbour', 'hood, but ', 'we had no ', 'problems. ', 'Geat acces', 's to publi', 'c transpor', 't. Main is', 'sue was ba', 'd plumbing', '- toilet o', 'ften block', 'ed and had', ' to move r', 'ooms once.', ' Service w', 'as also ve', 'ry minimal', '. But for ', 'the price ', 'we couldnt', ' complain ', 'too much.\\t', '\\nApr 20 20', '08 \\tHorror', ' Hotel\\tI s', 'tayed at t', 'his hotel ', 'with a fri', 'end due to', ' its close', ' proximity', ' to a conc', 'ert we wer', 'e attendin', 'g down the', ' street at', ' the Warfi', 'eld. What ', 'a mistake!', '!! Yeah it', ' had old d', 'ecor and I', \" couldn't \", 'fit on the', \" bed ( I'm\", \" 6'3). but\", ' all off t', 'hat pales ', 'in compari', 'son to wha', 't I found ', 'in the bat', 'hroom. I n', 'oticed tha', 't the cute', ' country s', 'tyle mirro', 'r was set ', 'in a windo', 'w frame. S', 'o my first', ' thought i', 's &quot; I', ' wonder if', ' his opens', ' like a wi', 'ndow?&quot', '; so I gra', 'b the wind', 'ow frame a', 'nd what do', ' ya know i', 't opened r', 'ight up. S', 'o there I ', 'am standin', 'g in the b', 'athroom st', 'aring thro', 'ugh a hole', ' in the wa', 'll into a ', 'dark hallw', 'ay about f', 'our feet w', 'ide that r', 'an the len', 'gth of our', ' room. So ', \"now I'm wo\", 'ndering if', ' my mirror', ' might be ', 'one-way an', \"d I'm afra\", 'id to show', 'er or use ', 'the toilet', '. I also c', \"an't sleep\", ' the entir', 'e night fr', 'om the fea', 'r of someo', 'ne enterin', 'g our room', ' through t', 'his mirror', '. At diffe', 'rent point', 's through ', 'the night ', 'my friend ', 'and I coul', 'd hear peo', 'ple in thi', 's vacant a', 'rea outsid', 'e our room', '. It felt ', 'like a bad', ' horror mo', 'vie. At le', 'ast we cou', 'ld watch t', 'he Dealers', ' selling c', 'rack outsi', 'de our win', 'dow all ni', 'ght for en', 'tertainmen', 't while we', \" weren't s\", 'leeping. T', 'o sum up: ', 'I will not', ' be stayin', 'g at this ', 'hotel agai', 'n.\\t\\nApr 18', ' 2008 \\tTot', 'ally misle', 'ading!\\tThi', 's was the ', 'worst hote', 'l ever!!! ', 'When I loo', 'ked it up ', 'on line it', ' looked ok', ', but when', ' I got the', 're I was r', 'eally surp', 'rised. It ', 'looked NOT', 'HING like ', 'the on-lin', \"e photo's,\", ' looking r', 'eally run ', 'down. My r', 'oom was cr', 'appy as we', 'll, and th', 'e bathroom', ' looked li', 'ke a total', ' dump! I d', \"idn't even\", ' feel safe', ' in the ho', 'tel, nor d', 'id I feel ', 'safe walki', 'ng around ', 'outside si', 'nce the ho', \"tel's in g\", 'angster-la', 'nd. No won', \"der it's s\", 'o cheap! D', 'O NOT STAY', ' HERE (ser', 'iously).\\t\\n', 'Mar 12 200', '8 \\tThis Pl', 'ace Is Hel', 'l!!!!!\\tMy ', 'hubby and ', 'I came her', 'e for our ', 'anniversar', 'y and WOW ', 'was it eve', 'r ruined. ', 'when we fi', 'rst checke', 'd in, our ', 'room was n', 'ot ready a', 'nd so they', ' went to p', 'ut us on t', 'he 5th flo', 'or and the', ' door look', 'ed like it', ' had been ', 'kicked in ', 'and the pe', 'ople 3 roo', 'ms down wa', 's really l', 'oud having', ' relations', ' went to c', 'omplain th', 'at we coul', 'd not get ', 'into room ', 'and they s', 'aid that t', 'hey were g', 'oing to pu', 't our thin', 'gs into an', 'other room', ' until ori', 'ginal room', ' was clean', 'ed and we ', 'went into ', 'room and I', ' was pisse', 'd because ', 'there was ', 'drug parap', 'henalia al', 'l over the', ' room and ', 'I took a f', 'irst aid g', 'love and p', 'icked up t', 'he crack p', 'ipe and to', 'ok it to t', 'he front d', 'esk and th', 'e guy had ', 'the galls ', 'to insinua', 'te that it', ' was mine ', 'and I got ', 'mad and le', 'ft for awh', 'ile and wh', 'en we came', ' back they', ' moved us ', 'to another', 'the mirror', ' was on th', 'e floor by', ' the wall ', 'and there ', 'was twin b', 'eds and we', ' were righ', 't next to ', 'the antiqu', 'e elevator', ' and ever ', 'time sone ', 'one came o', 'n or off o', 'f it the d', 'oor slamme', 'd and woke', ' us up. we', ' left earl', 'y and comp', 'lained to ', 'the Howard', ' Johnson C', 'orporation', ' and all t', 'he did was', ' send us a', ' coupon fo', 'r $25.0 of', 'f saying t', 'hat we can', ' use it on', ' our next ', 'visit. YEA', 'H RIGHT!!!', '\\t\\nFeb 19 2', '008 \\tDo No', 't Stay Her', 'e\\tWe knew ', 'upon booki', 'ng that Th', 'e Abigail ', 'was not a ', '5-star hot', 'el and we ', 'did not ex', 'pect it to', ' be. Howev', 'er, we exp', 'ected some', 'thing bett', 'er than a ', 'hostel in ', 'Europe. We', ' were sadl', 'y mistaken', '. Upon arr', 'ival (11 a', 'm), we wer', 'e told tha', 't check-in', ' was not u', 'ntil 3 pm ', 'were no ro', 'oms availa', 'ble at all', '. After ch', 'ecking or ', 'bags at th', 'e desk and', ' walking a', 'round unti', 'l 3 pm we ', 'returned t', 'o check in', '. We then ', 'found out ', 'that we ha', 'd 2 double', ' beds inst', 'ead of a q', 'ueen that ', 'we request', 'ed. We wer', 'e told no ', 's were ava', 'ilable at ', 'all and we', ' would hav', 'e to take ', 'that room.', ' We then d', 'iscovered ', 'no ice mac', 'hine in th', 'e hotel (y', 'et they ha', 'd ice buck', 'ets and gl', 'asses in t', 'he room; g', 'o figure).', ' There wer', 'e no elect', 'rical outl', 'ets in the', ' room, onl', 'y extensio', 'n cords th', 'at magical', 'ly came up', ' from the ', 'base board', 's (that ca', \"n't be up \", 'to fire co', 'de) and if', ' that was ', 'not weird ', 'enough, on', 'ly 2 outle', 'ts out of ', '4 on the e', 'xtension c', 'ord actual', 'ly worked.', ' The walls', ' throughou', 't the hote', 'l were den', 'ted and mu', 'dded, but ', 'never pain', 'ted again.', ' We found ', 'mold growi', 'ng in our ', 'room (um h', 'ealth liab', 'ility) and', ' the front', ' desk cler', 'ks would h', 'ave been b', 'etter suit', 'ed to work', ' fast food', ' than to b', 'e at the f', 'ront desk ', 'of a hotel', '. Even if ', 'you are on', ' a budget,', ' STAY AWAY', 'Abigail, s', 'ometimes s', 'aving mone', 'y is not w', 'orth the a', 'nnoyances ', 'and proble', 'ms you get', ' into.\\t\\nFe', 'b 2 2008 \\t', 'Scabbi-Gai', 'l Hotel\\tWe', ' stayed in', ' the Abiga', 'il Hotel f', 'or 5 night', 's, we chos', 'e it as it', ' was the c', 'heapest we', ' could fin', 'd and we w', 'ere on a s', 'trict budg', 'et!Having ', 'read the o', 'ther revie', 'ws we were', ' not expec', 'ting The R', 'itz but it', ' was disap', 'pointing. ', 'We arrived', ' at 1am, a', 'fter being', ' up 24hrs ', 'UK. Our ta', 'xi driver ', 'told us we', ' were on t', 'he outskir', 'ts of the ', \"'rough' ar\", 'ea, and ad', 'vised us n', 'ot to go p', 'ast our ro', 'ad!The hot', 'el was sha', 'bby and da', 'ted, there', ' were also', ' lots of d', 'own and ou', 'ts roaming', ' the stree', 'ts as well', '! The man ', 'on recepti', 'on was ver', 'y helpful ', '(and staff', ' were exce', 'llent thro', 'ughout our', ' stay)The ', 'lift was s', 'mall and r', 'ickety. Ou', 'r room was', ' on the to', 'p floor fa', 'cing the n', 'earby Asia', 'n Arts mus', 'eum.I have', ' to say th', 'at the hot', 'el would h', 'ave failed', ' miserably', ' on a Heal', 'th &amp; S', 'afety insp', 'ection (se', 'e photos),', ' the windo', 'ws were cr', 'acked, som', 'e were nai', 'led shut, ', 'others did', ' not shut ', 'properly!!', ' The plug ', 'sockets we', 're obvious', 'ly dangero', 'us, with m', 'asking tap', 'e and dodg', 'y wiring.T', 'he bedshee', 'ts (althou', 'gh clean) ', 'had cigare', 'tte burns ', 'in them. T', 'he bed was', ' clean and', ' comfortab', 'le though.', 'Noise wasn', 't too much', ' of a prob', 'lem, with ', 'either tra', 'ffic or ne', 'arby local', 's. We both', ' had jetla', 'g so went ', 'to bed abo', 'ut 9pm eac', 'h night an', 'd were awa', 'ke by 5am ', 'so sat in ', 'bed watchi', 'ng local n', 'ews report', 's of nearb', 'y shooting', 's!! We wer', 'e out all ', 'day and so', ' only used', ' the hotel', ' as a base', '.We had be', 'en advised', ' at the ti', 'me of book', 'ing that t', 'he hotels ', 'restaurant', ' was close', 'd for refu', 'rbishment,', ' but there', ' was a lov', 'ely bar/bi', 'stro on th', 'e corner b', 'y the hote', 'l, which s', 'howed film', 's on a mon', 'day night,', ' and had a', ' very frie', 'ndly helpf', 'ul barman!', 'Be warned ', 'that the h', 'otel is ne', 'ar to some', ' very dubi', 'ous areas,', ' and when ', 'walking ba', 'ck from th', 'e cinema/s', 'hopping ce', 'ntre we to', 'ok a wrong', ' turning a', 'nd ended u', 'p in some ', 'very unsav', 'our street', 's! The bus', ' stop taki', 'ng you to ', 'the Harbou', 'r/Pier 39 ', 'etc is jus', 't across t', 'he road so', ' definitel', 'y use this', ' if you ar', 'e travelli', 'ng back in', ' the eveni', 'ngs.I have', ' given thi', 's hotel a ', '2 out of 5', ' as the st', 'aff were v', 'ery good a', 'nd helpful', '.\\t\\nJan 16 ', '2008 \\tOK l', 'ittle hote', 'l good loc', 'ation\\tGot ', 'this hotel', ' for $50/n', 't and stay', 'ed for two', ' nights. I', 't was OK f', 'or the pri', 'ce and loc', 'ation. The', ' front des', 'k was good', ' and frien', 'dly, but n', 'ot informa', 'tive at al', 'l about th', 'e city. It', \"'s just op\", 'posite the', ' Asian Art', ' Museum an', 'd next to ', 'Civic Cent', 'er, City H', 'all, Marke', 't Street, ', 'and Civic ', 'Center BAR', 'T/Muni Sta', 'tion. Chin', 'atown and ', 'Union Squa', 're are als', 'o in a sho', 'rt-walk di', 'stance. It', \"'s in a go\", 'od locatio', 'n to get a', 'round this', ' city.We i', 'nitially b', 'ooked for ', 'a double-b', 'ed room, b', 'ut got a k', 'ing bed in', 'stead. How', 'ever, the ', 'room is qu', 'ite small ', 'with a TV,', ' a working', ' desk, and', ' a small l', 'ove seat .', ' You have ', 'a very lit', 'tle area t', 'o walk aro', 'und the be', 'd. Bathroo', 'm is rathe', 'r old, but', ' clean. Th', 'e hallway ', 'is clean a', 'nd nothing', ' looks lik', 'e some ima', 'ges posted', ' in the pa', 'st even th', \"ough they'\", 're still r', 'enovating ', 'a few gues', 't rooms. T', 'he worst t', 'hing durin', 'g our stay', ' is that t', 'he room wa', 's quite co', 'ld at nigh', 't as the h', 'eater in o', 'ur room in', ' the 6th f', \"loor didn'\", 't work wel', 'l. We aske', 'd them to ', 'fix that, ', 'but it did', \"n't help. \", 'As other r', 'eviews men', 'tioned abo', 'ut the hom', 'eless, I d', \"idn't see \", 'a lot of t', 'hem. Maybe', \" it's too \", 'cold and w', 'et during ', 'this time ', 'of year fo', 'r them to ', 'wander aro', 'und.Overal', \"l, it's go\", 'od value f', 'or budget-', 'mined trav', 'ellers.\\t\\nJ', 'an 10 2008', ' \\tFlop-Hou', 'se In Skid', ' Row\\tI hav', 'e never ha', 'd such a h', 'orrifying ', 'experience', ' at a hote', 'l in my li', 'fe! (and h', 'opefully n', 'ever will ', 'again) Upo', 'n entering', ' the &quot', ';inner san', 'ctum&quot;', ', better k', 'nown as th', 'e lobby, w', 'e were gre', 'eted by a ', 'not-so-fri', 'endly desk', ' clerk, wh', 'om, I gues', 's doubled ', 'as night w', 'atchman,( ', 'since he l', 'ater sacke', 'd out on t', 'he lobby s', 'ofa, snori', 'ng as we p', 'assed by u', 'pon return', 'ing in the', ' evening.)', ' The eleva', 'tor was so', ' rickety a', 'nd small, ', 'you could ', 'barely get', ' on with a', ' small sui', 'tcase. The', ' floor had', ' a mushy b', 'ounce to i', 't, and it ', 'felt like ', 'it was lin', 'ed with ca', 'rdboard. A', 's it lurch', 'ed into it', 's ascent, ', 'I remember', ' reciting ', \"the Lord's\", ' Prayer. W', 'hen we fin', 'ally reach', 'ed our flo', 'or, I was ', 'still pray', 'ing as we ', 'opened the', ' door to t', 'he &quot;l', 'ittle shop', ' of horror', 's.&quot; T', 'he exposed', ' wires of ', 'a single l', 'ight bulb ', 'dangled fr', 'om the cei', 'ling fan, ', 'which more', ' resembled', ' an interr', 'ogation de', 'vice rathe', 'r than an ', 'actual fix', 'ture. The ', 'other code', ' violation', 's and many', ' infractio', 'ns we took', ' note of a', 're too num', 'erous to m', 'ention her', 'e. That ni', 'ght, when ', 'we returne', 'd to our h', 'otel room,', ' exhausted', ' from walk', 'ing around', ' the area ', 'in search ', 'of alterna', 'te options', ' for lodgi', 'ng, which ', 'my son fou', 'nd on line', ', we were ', 'about to c', 'limb into ', 'bed, when ', 'I noticed ', 'the staine', 'd and ding', 'y-looking ', 'bed linen.', ' We went d', 'own to our', ' vehicle a', 'nd brought', ' up a blan', 'ket and la', 'id it on t', 'op of the ', 'bed, where', ' we &quot;', 'slept&quot', '; fully cl', 'othed, rea', 'dy to depa', 'rt at day-', 'break. Unf', 'ortunately', ', not much', ' sleep act', 'ually occu', 'rred becau', 'se we were', ' awakened ', 'to the sou', 'nds of ver', 'y loud arg', 'uing and s', 'creaming e', 'manating f', 'rom the ru', 'n-down bui', 'lding next', 'he hotel. ', 'This went ', 'on until d', 'ay-break, ', 'when my hu', 'sband turn', 'ed to me a', 'nd said , ', '&quot;Are ', 'you ready?', '&quot; , t', 'o which I ', 'wasted no ', 'time jumpi', 'ng off tha', 't flea-bag', ' bed, grab', 'bing our b', 'elongings,', ' and racin', 'g to the r', 'ickety ele', 'vator. As ', 'we flew by', ' desk, bag', 's in hand,', ' I heard t', 'he clerk i', 'nquire &qu', 'ot;Are you', ' coming ba', 'ck?&quot;,', ' to which ', 'I hollered', ' over my s', 'houlder, &', 'quot;NO! I', ' will neve', 'r come bac', 'k here aga', 'in!&quot; ', 'As we pull', 'ed away fr', 'om the cur', 'b, I bade ', 'goodbye to', 'il Hotel (', 'and the re', 'probate ur', 'inating on', ' the lamp ', 'post outsi', 'de the bui', 'lding) NEV', 'ER AGAIN!!', '\\t\\nNov 15 2', '007 \\tNice ', 'clean hote', 'l great fo', 'r the pric', 'e!\\tWe stay', 'ed at this', ' hotel rec', 'ently and ', 'I had book', 'ed it afte', 'r reading ', 'the latest', ' Oct 2007 ', 'reveiws an', 'd yes I ha', 've to agre', 'e with the', 'm that alt', 'hough its ', 'not the be', 'st hotel i', 'n town, I ', 'dont think', ' you could', ' get a bet', 'ter deal f', 'taion in d', 'owntown Sa', 'n Francisc', 'o. The hot', 'el is neat', ' and clean', ', yes it i', 's old but ', ' looking t', 'o just sle', 'ep during ', 'its a good', ' place. We', ' were in S', 'FO for a s', 'hort time ', 'and were m', 'ostly out ', 'exploring ', 'the city d', 'uring the ', 'day, so it', ' worked ou', 't great fo', 'r us. Its ', 'definitely', ' not the p', 'lace for y', 'ou if you ', 'have in mi', 'nd a relax', 'ing hotel ', 'stay! The ', 'staff is c', 'urteous an', 'd quite he', 'lpful\\t\\nOct', ' 21 2007 \\t', 'We found t', 'to be quit', 'e quaint a', 'nd charmin', 'g.\\tThe own', 'er took a ', 'personal i', 'nterest in', ' us. We we', 're always ', 'greeted up', 'on enterin', 'g the hote', 'l. The roo', 'm was very', ' clean, wi', 'th the hou', 'sekeeping ', 'staff comi', 'ng in dail', 'y to chang', 'e the line', 'n and towe', 'ls. On our', ' first day', ' there, th', 'ey called ', 'the cab co', 'mpany for ', 'us to get ', 'to the hos', 'pital on t', 'ime. We li', 've in the ', 'country an', 'd really d', 'islike cit', 'y living, ', 'but the st', 'aff at the', ' Abigail m', 'ade us fee', 'l at home.', 'For the pr', 'ice, you c', \"an't beat \", 'it.4 STARS', 'Endorsed b', 'y Dalevis ', '(An Elvis ', 'Tribute Ar', 'tist)\\t\\nJun', ' 8 2007\\tGo', 'n and a cu', 'te hotel!\\t', 'I found th', 'Hotel to b', 'e very agr', 'eeable, es', 'pecially f', 'ce. The ro', 'om was spa', 'cious and ', 'clean, wit', 'h new lock', 's and ligh', 'ting fixtu', 'res. The s', 'taff was a', 'lways frie', 'ndly and s', 'eemed hard', '-working. ', 'This hotel', ' is in a g', 'reat locat', 'ion - a sh', 'ort walk a', 'way from t', 'he Opera H', 'ouse and M', 'arket Stre', 'et, and no', 't too far ', 'by foot fr', 'om Chinato', 'wn or Unio', 'n Square, ', 'if one doe', \"sn't mind \", 'a short hi', 'ke. The on', 'ly downsid', 'es I could', ' find were', ' that the ', 'hotel is r', 'ather old ', 'and in nee', 'd of cosme', 'tic renova', 'tion (thou', 'gh that in', ' no way re', 'flects the', ' quality o', 'f service ', 'and room c', 'omfort), a', 'nd that th', 'e area in ', 'which it i', 's located ', '- the Civi', 'c Center -', ' is a litt', 'le seedy. ', 'However, w', 'e had a gr', 'eat experi', 'ence there', ' and reall', 'y enjoyed ', 'our stay!\\t', '\\nMar 14 20', '07 \\tOK for', ' the Price', '; Excellen', 't customer', ' service\\tW', 'ell, I rea', 'd the prev', 'ious comme', 'nts and al', 'l I can sa', 'y is that ', 'I had a di', 'fferent ex', 'perience. ', 'Staff was ', 'very proac', 'tive and e', 'ducated, w', 'illing to ', 'help all t', 'he time. T', 's good for', ' the price', '. Location', ' in downto', 'wn, you ca', 'nnot beat ', 'that. I kn', 'ow, it is ', 'not the GR', 'EATEST pla', 'ce on eart', 'h, but the', 'y are tryi', 'ng to prov', 'ide a clea', 'n and good', ' service. ', 'I definete', 'ly come ba', 'ck to the ', 'Abigail Ho', 'tel and I ', 'hope that ', 'you do so ', 'too. RELAX', '.AGAIN, it', ' is not th', 'e best for', ';picky&quo', 't; individ', 'uals.\\t\\nOct', ' 10 2006 \\t', 'The Worst ', 'Hotel in t', 'he US\\tWe s', 'tayed in t', 'the past w', 'eekend, Oc', 't 6, 2006,', ' on our we', 'ekend geta', 'way to SF.', \" I'm not a\", ' picky one', ' or could ', 'care less ', 'about fanc', 'y hotels b', 'ut boy, th', 'is was som', 'ething. Wh', 'en you jus', 't enter th', 'e hotel, i', 't looks ol', 'd and has ', 'this smell', ' to it but', ' they were', ' remodelin', 'g the lobb', 'y, so, we ', \"didn't car\", 'e. We had ', 'a room on ', 'the 5th fl', 'oor and wh', 'en we ente', 'red, I was', ' shocked. ', 'Check out ', 'the pictur', 'es posted ', 'in one of ', 'the other ', 'reviews. T', \"hat's exac\", 'tly how th', 'e room loo', 'ked like -', ' broken ca', 'binet door', 's, chipped', ' ceiling/w', 'alls, no c', 'urtains, d', 'irty windo', 'ws, a dirt', 'y bathroom', '. The wors', 't thing wa', 's the bed ', 'itself. Th', 'e sheets w', 'ere dirty,', ' had &quot', ';stains&qu', 'ot; on the', 'm and ther', 'e was ciga', 'rette smok', 'e smell ev', 'erywhere. ', 'We went do', 'wnstairs a', 'nd asked f', 'or a new b', 'lanket. Th', 'e guy brou', 'ght a new ', 'one but di', \"dn't take \", 'the old on', 'e and told', ' us to thr', 'ow it on t', 'he floor. ', 'He still d', \"idn't offe\", 'r to chang', 'e the bed ', 'sheets and', ' the pillo', 'w covers. ', 'It was too', ' late for ', 'us to go a', 'nywhere el', 'se and wer', 'e forced t', 'o spend th', 'e night th', 'ere. I hon', 'estly thin', \"k that it'\", 's hazardou', 's to stay ', 'here. They', ' must be i', 'n violatio', 'n of some ', 'sort of la', 'ws. My nos', 'e was swol', 'len the ne', 'xt morning', '. It was s', 'o terrible', ' that come', ' next morn', 'ing, we ch', 'ecked out.', ' I beg eve', 'rybody to ', 'please DO ', 'NOT check ', 'into this ', 'hotel. The', 're are oth', 'er very af', 'fortable h', 'otels arou', 'nd that ar', 'e CLEAN. F', 'or example', ', just blo', 'cks away i', 's Red Coac', 'h Lodge - ', \"that's whe\", 're we stay', 'ed our sec', 'ond night.', '\\t\\nJun 29 2', '006 \\teven ', 'the fleas ', 'have fled\\t', 'We left bo', 'oking a ho', 'tel until ', 'the last m', 'inute, whi', 'ch gave us', ' few optio', 'ns. On wal', 'king up to', 'il we were', ' a little ', 'put off by', ' the ideal', ' location ', '- ideal fo', 'r the Prid', 'e festival', ' being rig', 'ht in the ', 'middle of ', 'the Civic ', 'Center, bu', 't every st', 'reet was a', 'wash with ', 'litter and', ' debris an', 'd winos an', 'd other ho', 'meless sle', 'pt in the ', 'alleys and', ' doorways ', 'near the h', 'otel.The e', 'ntrance do', 'or is flan', 'ked by a l', 'arge early', ' art deco ', 'stained gl', 'ass leadli', 'ght that i', 's broken a', 'nd held to', 'gether wit', 'h duct tap', 'e - very c', 'lassy. The', ' entrance ', 'foyer is c', 'arpeted in', ' a dark re', 'd carpet w', 'ith holes ', 'and worn p', 'atches. Ev', 'erything a', 'ppears to ', 'have a coa', 't of paint', ' for each ', 'year of op', 'eration, s', 'ome of it ', 'flaked off', ' in patche', 's, but jus', 't painted ', 'over again', '. Lead poi', 'soning her', 'e we come.', 'The first ', 'flight of ', 'stairs is ', 'dangerous ', '- very ste', 'ep with sm', 'all width ', 'steps, but', ' the warni', 'ng sign to', ' hold on t', 'o the stai', 'r rail is ', 'at the top', ' of the st', 'airs, and ', 'the stair ', 'railing is', ' coming aw', 'ay from th', 'e wall - a', ' good tug,', ' or the we', 'ight of a ', 'body grabb', 'ing it in ', 'a fall wil', 'l send you', ' crashing ', 'down about', ' 15 feet t', 'o the floo', 'r below.Th', 'e old-styl', ' has no ha', 'ndle on th', 'e concerti', 'na grill d', 'oor - mean', 'ing you sq', 'uash your ', 'hand if yo', \"u don't re\", 'move it qu', 'ickly enou', 'gh.Each fl', 'oor is the', ' same as t', 'he last - ', 'with flaki', 'ng paint a', 'nd other d', 'ebris litt', 'ering the ', 'carpet, an', 'd evicted ', \"residents'\", ' belonging', 's and brok', 'en applian', 'ces left i', 'n the hall', 'ways.The s', 'moke alarm', ' was broke', 'n in our r', 'oom, as wa', 's one of t', 'he sash wi', 'ndows - cr', 'ashing dow', 'n after I ', 'opened it ', '- lucky my', ' head wasn', \"'t in the \", 'open space', ' - not tha', 't there is', ' a view - ', 'it looks i', 'nto an all', 'eyway each', ' side, in ', 'which the ', 'bag ladies', ' and bagme', 'n sleep in', ' all their', ' stench an', 'd glory. T', 'here was a', 'lso no flo', 'or plan ma', 'p on the b', 'ack of the', ' door to e', 'xplain whe', 're the fir', 'e exits wh', 'ere in the', ' case of a', 'n emergenc', 'y.We notic', 'ed the cer', 'tificate f', 'or the saf', 'tey of the', 'expired in', ' June 2005', ', a point ', 'we took up', ' with the ', 'State depa', 'rtment res', 'ponsible e', 'ven though', ' the duty ', 'manager (w', 'ho gave hi', 's names as', ' Andy, And', 'y Patel, a', 'nd Andy Su', 'chek) lied', ' many time', 's to us ab', 'out how th', 'ey did hav', 'e a valid ', 'certificat', 'e at the o', 'ffice and ', 'it was bei', 'ng faxed f', 'or us to s', 'ee. We nev', 'er did get', ' to see it', '. The fire', ' hose cert', 'ificate on', ' floor 4 w', 'as also ex', 'pired, but', ' at least ', 'the fire e', 'xtinguishe', 'r certific', 'ate was cu', 'rrent by s', 'ix months.', 'The bathro', 'om was ven', 'tilated wi', 'th a sash ', 'window pai', 'nted over ', '(and over)', ' opening i', 'nto a shaf', 't that sme', 'lled as if', ' a pigeon ', 'had lain d', 'eceased at', ' the botto', 'm for some', ' months. N', 'o shelf to', ' put your ', 'shampoo or', ' makeup on', ' either. W', 'hen we arr', 'ived late ', 'in the day', ', there we', 're no towe', 'ls other t', 'han an old', ' handtowel', '. When we ', 'finally re', 'ceived the', ' full quot', 'a of bath ', 'linen two ', 'days later', ' so small ', 'and thread', 'bare. A to', 'wel when h', 'eld vertic', 'ally stret', 'ched from ', 'the floor ', 'to just ab', 'ove the kn', 'ees - I am', \" 5' 10&quo\", 't;.The bed', ' was a kin', 'g size whi', 'ch would h', 'ave been l', 'ovely exce', 'pt that it', ' left litt', 'le room in', ' the room ', 'for the ot', 'her furnit', 'ure - we b', 'anged our ', 'shins many', ' times get', 'ting aroun', 'd the bed.', ' It was ma', 'de up with', ' white pol', 'y/cotton s', 'heets - fo', 'r a double', ' bed, judg', 'ing by the', ' amount on', ' each side', ' too short', '. We had t', 'o show the', ' Indian ma', 'id how to ', 'make up th', 'e bed with', ' the sheet', 's going no', 'rth/south ', 'instead of', ' east/west', '. She was ', 'right to m', 'ake the be', 'ds east/we', 'st though ', 'as that wa', 's the only', ' way the s', 'heets fitt', 'ed!!!The b', 'lanket had', ' as many h', 'oles in it', ' as we sta', 'yed nights', ' (six) and', ' the quilt', 'ed cover h', 'ad cigaret', 'te burns i', 'n it, as d', 'id the sid', 'e table.Th', 'e armchair', ' was cover', 'ed with a ', 'slip cover', 'long in ne', 'ed of a go', 'od wash - ', 'especially', ' as it was', ' splattere', 'd with dri', 'ed blood d', 'own one si', 'de! Hepati', 'tus B and ', 'C here we ', 'come!The r', 'oom carpet', ' was worn ', 'and very s', 'tained, ev', 'en more so', ' when at t', 'hree one m', 'orning we ', 'awoke to t', 'he sound o', 'f running ', 'water only', ' to find t', 'he light f', 'itting abo', 've the doo', 'r was gush', 'ing water ', 'from the f', 'loor above', '. The carp', 'et remaine', 'd soggy fo', 'r the rema', 'inder of o', 'ur stay, e', ' we were a', 'ssured the', 'y had a we', 't/dry vacu', 'um cleaner', ' to deal w', 'ith it.It ', 'looks like', ' every pro', 'blem is fi', 'xed by a n', 'ear-sighte', 'd home-han', 'dyman - th', 'e type tha', 't smears p', 'laster ove', 'r cracks a', 'nd holes b', \"ut doesn't\", ' sand it s', 'mooth befo', 're applyin', 'g liberal ', 'coats of p', 'aint. This', ' was evide', 'nt in thre', 'e large cr', 'acks aroun', 'd the ceil', 'ing fan, t', 'he bedroom', ' wall ligh', 't switch, ', 'the bathro', 'om sink wa', 'll mounts,', ' and numer', 'ous holes ', 'and such p', 'atched on ', 'each floor', ' in the st', 'airwell.A ', 'small bar ', 'fridge and', ' microwave', ' was in th', 'e room as ', 'well as a ', 'very large', ' televisio', 'n. Of the ', '80 or so c', 'hannels it', ' recieved ', 'only two w', 'ere clear ', 'enough to ', 'view. The ', 'microwave ', 'was placed', ' precariou', 'sly on top', ' of the ba', 'r fridge w', 'hich was t', 'oo low dow', 'n on the f', 'loor to be', 'ly used an', 'd the frid', 'ge was too', ' large to ', 'fit in the', ' aperture ', 'for it in ', 'the enormo', 'us wall un', 'it housing', ' the huge ', 'tv. We mov', 'ed the mic', 'rowave to ', 'atop the l', 'arge desk ', 'taking up ', 'an entire ', 'corner of ', 'the room.T', 'he telepho', 'ne did not', ' work at a', 'll, we com', 'plained tw', 'ice and wh', 'en it was ', 'finally fi', 'xed, it di', 'd not acce', 'pt 1-800 n', 'umbers - w', 'e had to m', 'ake those ', 'from a pay', 'phone down', 'stairs - a', ' bit diffi', 'cult to ri', 'ng up the ', '1-800 numb', 'ers for an', ' alternati', 've hotel. ', 'There was ', 'also no sc', 'hedule of ', 'charges in', 'for such t', 'hings as s', 'tealing th', 'e towels o', 'r making t', 'oll calls.', 'We stayed ', 'the length', ' of our st', 'ay (six ni', 'ghts) beca', 'use we had', ' no other ', 'place to s', 'tay, and a', 'ccomodatio', 'n was at a', ' premium d', 'ue to the ', 'Pride fest', 'ival. We c', \"an't say i\", 't was clea', 'n - as it ', \"wasn't. We\", \" can't say\", ' it was co', \"n't when w\", 'e had to c', 'hase bed s', 'heets arou', 'nd all nig', 'ht, and wo', 'rried over', ' how the h', 'uge cracks', ' in the ce', 'ling surro', 'unding the', ' celing fa', 'n mount go', 't there...', 'It certain', \"ly wasn't \", 'quiet. The', ' smell of ', 'the dehydr', 'ating pige', 'on and the', ' years of ', '&quot;resi', 'dents&quot', '; in the r', 'oom meant ', 'we kept th', 'e one oper', 'ating wind', 'ow wide op', 'en, but it', ' let in th', 'e noise of', ' sirens an', 'd homeless', ' derelicts', ' fighting ', 'in the all', 'ey below.L', 'uckily we ', 'were usual', 'ly exhaust', 'ed from ou', 'r daily ex', 'cursions a', 'nd slept f', 'airly well', '.With the ', 'right owne', 'rs, manage', 'rs and sta', 'ff this co', 'uld be a b', 'outique ho', 'tel comman', 'ding more ', 'moderate p', 'rices, but', ' the cheap', ' cost-cutt', 'ing and bu', 'ilding vio', 'lations go', 'ing on in ', 'the name o', 'f saving a', ' few bucks', ' on mainte', 'nance have', ' left this', ' place a d', 'eath trap.', 'The City a', 'nd County ', 'of San Fra', 'ncisco act', 'ed quickly', ' sending a', ' building ', 'inspector ', 'around on ', 'Tuesday (w', 'e complain', 'ed Monday)', ' and he ra', 'ng me in L', 'A to say t', 'hey had vi', 'olated man', 'y areas of', ' the build', 'ing code a', 'nd were is', 'sued with ', 'an infring', 'ement noti', 'ce. Hopefu', 'lly the St', 'ate Dept r', 'esponsible', ' for the s', 'afety cert', ' for the e', 'levator wi', 'll act acc', 'ordingly a', 'lso.The on', 'ly good th', 'ing about ', \"was it's c\", 'entral loc', 'ation th B', 'ART, MUNI,', ' and the P', 'ride Festi', 'val. Certa', 'inly not w', 'orth the f', 'ifty dolla', 'rs nightly', ' we paid t', 'o sleep in', ' a death t', 'rap, but w', 'orth fifty', ' a night o', 'nce they c', 'lean up th', 'eir act.fe', 'el free to', ' email for', ' photos to', 'o large to', ' post on s', 'ite. roseb', 'ush40@yaho', 'o.co.nzBru', 'ce GrovesR', 'ose Bush E', 'ntertainme', 'nts(--)\\t\\nJ', 'un 8 2006\\t', 'The worst ', 'hotel I ha', 've ever st', 'ayed at in', ' the world', '\\tI do not ', 'recommend ', ' at all!!!', ' I stayed ', 'at the Abi', 'gail Hotel', ' (March 10', '-March 13,', ' 2006). It', ' is the wo', 'rst hotel ', 'that I hav', 'e ever sta', 'yed at. I ', 'have poste', 'd some pho', 'tos from m', 'y visit. I', ' booked th', 'is hotel s', 'ince it ha', 'd OK revie', 'ws on othe', 'r websites', '. I booked', ' two non-s', 'moking roo', 'ms and was', ' told that', ' they coul', 'd not guar', 'antee that', ' the guest', 's had not ', 'been smoki', 'ng there. ', 'They even ', 'have a no ', 'smoking si', 'gn on the ', '6th floor,', ' but I gue', 'ss it does', \"n't matter\", '... One of', ' the rooms', ' on the 6t', 'h floor wa', 's OK (not ', 'smelling l', 'ike a bar)', ', but the ', 'other one ', 'had both a', 'n ash tray', ' in it as ', 'well as it', ' was stink', 'ing of smo', 'ke. I went', ' to the re', 'ception an', 'd he offer', 'ed me anot', 'her room, ', 'also smoky', ', then ano', 'ther room ', 'on the 5th', ' floor whi', 'ch was eve', 'n worse. T', 'he corrido', 'r had not ', 'been clean', 'ed in week', 's, with di', 'rt and thi', 'ngs lying ', 'the floor,', ' so I went', 'ception on', 'ce again a', 'nd I was o', 'ffered ano', 'on the 6th', ' floor. Th', 'ey did not', ' have an e', 'xtra key f', 'or that on', 'e, so some', 'one from t', 'he recepti', 'on would h', 'ave to acc', 'ompany me ', 'and my hus', 'band to op', 'en the doo', 'r every ti', 'me we need', 'ed to ente', 'r. Well, I', ' said that', ' was unacc', 'eptable, s', 'o finally ', 'the recept', 'ionist fou', 'nd another', ' room on t', 'he 6th flo', 'or that di', 'd not smel', 'l. By then', ' I was so ', 'tired that', ' I accepte', 'd the room', '.On of the', ' old windo', 'ws in the ', 'entry was ', 'broken and', ' has been ', 'taped toge', 'ther and i', 't looks un', 'finished. ', 'The owners', '/employees', ' are not t', 'oo friendl', 'y and hard', 'ly says he', 'llo when y', 'ou pass th', 'em. The fa', 'mous Mille', 'nnium Vege', 'tarian Res', 'taurant ha', 's moved to', ' another l', 'ocation, c', 'ontrary to', ' what it s', 'ays on oth', 'er website', 's.\\t\\nMar 21', ' 2006\\tAbig', \"ail you're\", ' a major d', 'isappointm', 'ent!\\tThis ', 'hotel was ', 'nothing li', 'ke the ima', 'ge created', ' by its we', 'bsite. I w', 'as expecti', 'ng a homel', 'y bijoux h', 'otel, but ', 'was greete', 'd by a col', 'd and dark', ' hallway a', 'nd an even', ' colder ro', 'om.The rat', 'ings on a ', 'series of ', 'sites rang', 'ed from 3*', 'to 5*, so ', 'I was hopi', 'ng for a m', 'odicum of ', 'cleanlines', 's. Again, ', 'I was disa', 'ppointed.S', 'taff, thou', 'gh friendl', 'y, were of', ' not much ', 'use. On my', ', upon enq', 'uring whic', 'h directio', 'n I should', \" go in (I'\", 'd read war', 'nings abou', 't the area', ' several b', 'locks away', ', so wante', 'd to avoid', ' it) the r', 'eceptionis', 't apologis', 'ed that sh', \"e wasn't f\", 'rom the ar', 'ea and did', \"n't know w\", 'hich direc', 'tion the h', 'otel faced', '!I underst', 'ood from t', 'he one oth', 'er guest I', ' met whils', 't there th', 'at in 2003', ' it was in', 'deed a lov', 'ely hotel,', ' but those', ' owners ha', 'd left. Th', 'is is a sh', 'ame, as it', \"'s locatio\", 'n is excel', 'lent.\\t\\nNov', ' 22 2005\\tT', 'he rat hol', 'e\\t&quot;We', ' took one ', 'look at th', 'e room and', ' walked ou', 't, there w', 'as no way ', 'we would s', 'tay there ', 'and I woul', 'd not reco', 'mmend it t', 'o my worst', ' enemy.&qu', 'ot; Window', 's were bro', 'ken, holes', ' from ciga', 'rettes in ', 'the beds. ', 'Sheets wer', 'e ripped-o', 'ff. Carpet', 'ed with di', 'rt. Person', 'al told us', ' that it w', 'as &quot;t', 'he best ro', 'om they ha', 'd&quot;. M', 'y daughter', ' almost cr', 'ied...\\t\\nSe', 'p 12 2005\\t', 'A dump\\tDef', 'inatly not', 'hing like ', 'the descri', 'ption that', ' we were g', 'iven by ou', 'r agents.W', 'e found th', 'e same con', 'ditions as', ' the previ', 'ous review', '. There wa', 's supposed', ' to be air', ' condition', 'ing, our r', 'oom had a ', 'ceiling fa', 'n and an o', 'ld cast ir', 'on radiato', 'r and the ', 'elevator w', 'as out of ', 'order.We t', 'ook one lo', 'ok at the ', 'room and w', 'alked out,', ' there was', ' no way we', ' would sta', 'y there an', 'd I would ', 'not recomm', 'end it to ', 'my worst e', 'nemy.\\t\\nJul', ' 8 2005\\tWh', 'at a dump!', '\\tIf you re', 'ad any des', 'criptions ', 'of the Abi', ', forget t', 'hem. The h', 'otel must ', 'have chang', 'ed hands s', 'ince they ', 'were writt', 'en.There i', 's no Mille', 'taurant, b', 'ar, lounge', ', room ser', 'vice, park', 'ing or cof', 'fee making', ' facilitie', 's.The hote', 'l is now m', 'ainly resi', 'dential.Th', ' furnishin', 'gs were gr', 'ubby, ther', 'e were hol', 'es in the ', 'curtains a', 'nd bedding', ', the TV w', 'as unwatch', 'able.Staff', ' were unhe', 'lpful, the', ' maid didn', \"'t turn up\", 'not given ', 'clean towe', 'ls (we wer', 'e told the', \"re weren't\", ' any).We h', 'ad booked ', 'a quad roo', 'm, for 3 a', 'dults. We ', 'were given', ' a double ', 'room with ', 'one double', ' bed and o', 'ne folding', ' &quot;cam', 'p bed&quot', ';.If you w', 'ant a good', ', budget h', 'otel in Sa', 'o, try the', ' Air Trave', 'l.\\t\\nApr 30', ' 2005\\tYou ', 'need to be', ' street wi', 'se!\\tWe sta', 'yed 2 week', 's for $35 ', 'per night ', 'for a dbl ', 'rm. Fantas', 'tically ch', 'eap (via a', 'n agent in', ' London) b', 't you get ', 'what you p', 'ay for. Cl', 'ean room b', 't desperat', 'ely old de', 'cor. Cigar', 'ette burns', ' on the ca', 'rpet and (', 'clean) bed', 'ding. Rm c', 'leaned/bed', ' changed e', 'very 3 day', 's. Web pag', 'e totally ', 'inaccurate', '. No resta', 'urant (fam', 'ous veggie', ' restauran', 't closed y', 'ears ago),', ' no tea/co', 'ffee makin', 'g faciliti', 'es, staff ', 'pleasant b', 't unintere', 'sted and n', 'o addition', 'al informa', 'tion or to', 'urist advi', 'ce given b', 'ut for lea', 'flets in t', 'he slightl', 'y grubby f', 'oyer. Area', ' is incred', 'ible - our', ' view was ', 'the beauti', 'ful City H', 'all but it', ' is also a', ' rough nei', 'ghborhood ', 'so hence t', 'he title o', 'f this rev', 'iew! While', ' we were t', 'here we he', 'ard argume', 'nts with t', 'he Hotel M', 'anager and', ' long term', ' residents', ', the glas', 's of the f', 'oyer front', ' door was ', 'and the po', 'lice visit', 'ed once to', ' evict a t', 'enant.I wo', 'uld sugges', 't young, t', 'ravel wise', ' backpacke', 'rs stay he', 're for a f', 'ew nights ', 'only.Tradi', 'tional tou', 'rists; you', \" won't lik\", 'e it. Fami', 'lies with ', 'children; ', 'absolutely', ' not.\\t\\nSep', ' 28 2004\\tN', 'ot bad for', '.\\tI found ', ' at the la', 'st minute ', 'for a thre', 'e night st', 'ay in Sept', 'ember 2004', '. It is an', ' odd place', '. It is a ', 'Howard Joh', 'nson hotel', ', but is r', 'eally part', ' low-incom', 'e residenc', 'e. The fro', 'nt part of', 'ing is a h', 'otel, the ', 'rest are t', 'enant-occu', 'pied. For ', 'this reaso', 'n it is a ', 'little unn', 'erving. Th', 'e rooms ar', 'e clean, j', 'ust a litt', 'le worn. T', 'hey look l', 'ike old st', 'udios quic', 'kly conver', 'ted to hot', 'el rooms w', 'ith TV arm', 'oires in f', 'ront of an', ' old close', 't door. Th', 'e rates we', 're cheap a', 'nd the sta', 'ff nice bu', 't they wer', \"en't very \", 'fluent in ', 'English. N', 'o parking ', 'available.', ' Close to ', 'er and eas', 'y to walk ', 'to Market ', 'Street.\\t\\nS', 'ep 10 2009', ' \\tImmonde ', 'et Insalub', 're\\t\\t\\nSep 7', ' 2009 \\tAtt', 'enzione at', 'tenzione l', 'asciate pe', 'rdere\\t\\t\\nJu', 'l 25 2007 ', '\\t50:50\\t\\t\\nD', 'ec 31 2006', '\\tH�tel � �', 'viter !\\t\\t\\n', 'Sep 26 200', '6 \\tNON MET', 'TETECI PIE', \"DE! DON'T \", 'COME IN TH', 'IS HOTEL. '])"
      ]
     },
     "execution_count": 22,
     "metadata": {},
     "output_type": "execute_result"
    }
   ],
   "source": [
    "## Example of shingles \n",
    "documents[0].shingles"
   ]
  },
  {
   "cell_type": "code",
   "execution_count": 23,
   "metadata": {},
   "outputs": [
    {
     "data": {
      "text/plain": [
       "OrderedSet([1396, 1736, 1361, 1986, 1106, 1564, 1458, 1068, 219, 1728, 697, 237, 1173, 214, 1792, 1437, 954, 730, 1045, 1989, 1886, 1542, 798, 851, 1291, 1342, 152, 7, 1743, 1569, 271, 1701, 1084, 1922, 1265, 1676, 939, 1851, 73, 1529, 1160, 1574, 464, 47, 912, 617, 1854, 1183, 932, 542, 2015, 1245, 742, 1949, 497, 1903, 1328, 1763, 1370, 1151, 78, 1525, 1964, 1735, 805, 137, 1694, 1439, 872, 260, 889, 700, 1823, 668, 1970, 2045, 406, 133, 301, 213, 979, 1359, 1689, 1405, 831, 1702, 1777, 1409, 324, 1087, 1790, 1877, 629, 892, 1988, 793, 1269, 76, 1444, 1219, 25, 1935, 1026, 594, 496, 90, 545, 419, 1683, 1009, 1500, 1943, 817, 734, 375, 1795, 1254, 1128, 523, 1751, 626, 1754, 573, 2034, 97, 1747, 438, 1967, 60, 14, 1081, 1024, 990, 1407, 146, 666, 614, 1646, 1818, 1944, 1113, 612, 1166, 1118, 428, 1241, 1708, 924, 906, 1100, 459, 91, 2014, 399, 1971, 1502, 2009, 1815, 1194, 350, 59, 1109, 868, 741, 1149, 1386, 4, 1595, 779, 119, 670, 755, 66, 187, 240, 1671, 984, 858, 854, 1661, 1418, 778, 1805, 1969, 735, 1341, 1028, 743, 653, 58, 472, 1984, 381, 714, 945, 1227, 1885, 1191, 41, 2005, 494, 70, 747, 1348, 887, 121, 316, 1727, 606, 1362, 1820, 1734, 1933, 1636, 1153, 2031, 282, 1866, 1506, 983, 1841, 331, 853, 42, 379, 1375, 1761, 1036, 1410, 1126, 1770, 1093, 54, 601, 412, 1760, 516, 564, 1369, 1368, 179, 1657, 1716, 130, 377, 567, 916, 367, 184, 1589, 1027, 1591, 693, 1303, 405, 1212, 1731, 85, 1503, 312, 636, 1122, 722, 1249, 1985, 1697, 212, 1515, 1843, 1931, 1652, 105, 819, 1140, 1972, 299, 530, 1983, 1994, 1901, 1314, 769, 484, 1690, 262, 826, 713, 1491, 1923, 591, 1855, 585, 1609, 52, 86, 1119, 526, 178, 1220, 973, 345, 267, 1537, 760, 1597, 1765, 1449, 208, 1483, 1290, 263, 865, 1097, 1774, 403, 175, 1527, 89, 1069, 255, 157, 1105, 411, 1329, 2012, 1811, 321, 1698, 691, 724, 1332, 1717, 1888, 349, 1441, 776, 1120, 94, 164, 1271, 774, 581, 1562, 1978, 529, 176, 224, 2024, 1033, 1772, 1302, 733, 135, 6, 595, 1239, 441, 852, 1111, 2007, 1898, 1897, 1281, 147, 1873, 1267, 965, 1534, 51, 582, 330, 1840, 1399, 532, 198, 23, 719, 112, 1185, 835, 1535, 886, 727, 1426, 882, 19, 1831, 1020, 1197, 1592, 408, 1157, 1225, 1605, 1940, 1489, 453, 1688, 442, 434, 481, 1013, 953, 462, 675, 644, 1587, 692, 1518, 43, 1852, 891, 1288, 1419, 1634, 1617, 1742, 1355, 1721, 1286, 830, 583, 756, 960, 1921, 37, 1615, 193, 1164, 145, 1856, 1198, 833, 1613, 122, 449, 15, 1236, 1373, 1585, 867, 1785, 232, 1547, 24, 1275, 616, 829, 818, 1176, 2000, 689, 99, 1163, 248, 1283, 1909, 608, 1295, 189, 1012, 45, 712, 192, 322, 1894, 1414, 622, 1071, 1719, 1228, 1582, 937, 1836, 489, 1732, 1651, 676, 1070, 1326, 206, 980, 195, 883, 166, 421, 988, 466, 1846, 49, 509, 1819, 1845, 985, 1610, 1316, 236, 597, 369, 849, 1145, 1041, 1052, 1021, 535, 387, 231, 894, 859, 252, 941, 151, 294, 354, 1457, 1136, 1839, 725, 558, 588, 528, 80, 446, 289, 2002, 610, 234, 374, 1493, 1256, 1035, 390, 355, 1725, 1138, 890, 389, 904, 1538, 763, 874, 917, 1738, 457, 400, 1420, 884, 1531, 619, 862, 828, 590, 1709, 1171, 1390, 1141, 1451, 1123, 448, 2010, 279, 1143, 1692, 222, 824, 1104, 1766, 1810, 1421, 1110, 1010, 378, 987, 1244, 1782, 1654, 194, 1156, 2029, 1540, 445, 1272, 557, 310, 1662, 773, 652, 672, 407, 795, 1152, 227, 961, 1681, 1215, 10, 1479, 1653, 1807, 98, 811, 1830, 1580, 804, 1351, 860, 1797, 788, 1401, 266, 1446, 1925, 337, 1974, 1495, 1474, 934, 929, 393, 1705, 1575, 250, 1456, 265, 1987, 416, 498, 356, 1859, 540, 947, 391, 913, 716, 1536, 1541, 968, 946, 603, 971, 404, 717, 710, 963, 476, 1558, 1007, 1061, 1954, 1864, 646, 1059, 708, 422, 1357, 1255, 138, 317, 125, 1686, 1415, 100, 304, 1174, 1442, 1549, 845, 1842, 155, 1102, 925, 83, 1804, 560, 1530, 667, 1008, 96, 981, 920, 420, 520, 1876, 1524, 17, 568, 879, 930, 479, 55, 1461, 1570, 1162, 1955, 1565, 918, 11, 682, 1929, 1834, 409, 275, 1962, 311, 1209, 524, 1696, 921, 1200, 1079, 576, 1232, 168, 1699, 995, 765, 999, 551, 1796, 753, 1459, 1142, 1559, 1168, 749, 1169, 1858, 143, 190, 423, 1155, 1837, 1056, 1679, 907, 1463, 1995, 1844, 543, 1870, 885, 171, 813, 1383, 27, 50, 1158, 329, 1015, 736, 327, 673, 1285, 500, 1685, 1862, 101, 1882, 1827, 61, 1049, 1919, 696, 1402, 1224, 1616, 296, 1915, 996, 593, 1960, 507, 1781, 33, 2006, 1899, 1011, 538, 764, 2021, 791, 515, 218, 1159, 649, 950, 110, 1196, 1353, 1465, 1913, 1382, 1107, 967, 801, 1129, 1951, 392, 1968, 814, 1865, 1188, 563, 40, 1170, 792, 1076, 1704, 840, 114, 108, 1832, 527, 641, 841, 505, 1, 745, 1658, 200, 1521, 1161, 855, 357, 451, 1006, 307, 1791, 274, 1625, 1400, 1576, 1221, 1349, 1180, 1299, 1251, 1053, 326, 335, 430, 1706, 1184, 1318, 8, 1672, 371, 1307, 1700, 574, 1618, 1454, 994, 467, 128, 1813, 1583, 2042, 251, 1682, 382, 480, 18, 940, 181, 1276, 1428, 1979, 783, 1733, 1608, 933, 1133, 1411, 511, 148, 124, 553, 639, 839, 669, 1902, 531, 900, 104, 554, 777, 1443, 1203, 1112, 136, 1116, 2018, 657, 492, 645, 257, 342, 1001, 1821, 417, 1578, 592, 1593, 1573, 21, 1211, 1707, 1718, 161, 1438, 1633, 1308, 270, 659, 1250, 706, 1371, 1976, 1523, 290, 729, 2036, 718, 959, 728, 2004, 352, 878, 1602, 1773, 1867, 225, 334, 1889, 1566, 896, 575, 1936, 1546, 680, 877, 1745, 547, 1433, 1350, 1075, 834, 1767, 1337, 1358, 1778, 87, 846, 93, 450, 1135, 1480, 1385, 1144, 1051, 2040, 1786, 113, 1347, 74, 435, 1511, 1218, 898, 1378, 2043, 1413, 643, 502, 264, 1083, 577, 495, 781, 740, 1476, 431, 1749, 30, 1637, 1388, 1801, 228, 544, 118, 1134, 1906, 866, 427, 1356, 276, 79, 1497, 291, 48, 2017, 1740, 353, 29, 1178, 809, 447, 559, 1660, 686, 1956, 1392, 534, 638, 1504, 209, 1050, 584, 1937, 343, 569, 2020, 752, 1374, 2027, 134, 348, 177, 394, 1526, 12, 288, 768, 1678, 1406, 1467, 424, 1879, 970, 1594, 142, 832, 217, 510, 748, 1127, 1579, 117, 1047, 1016, 982, 1980, 1927, 863, 1273, 362, 922, 358, 433, 1032, 873, 796, 452, 454, 1629, 346, 2044, 1367, 238, 1632, 477, 1391, 1037, 241, 677, 1893, 26, 850, 1764, 944, 1598, 905, 1331, 1306, 486, 1748, 1627, 1201, 1612, 935, 1619, 1447, 1752, 292, 1887, 1182, 1352, 1492, 1803, 1812, 508, 1746, 992, 361, 966, 772, 131, 1670, 35, 1726, 1365, 1345, 800, 704, 1484, 102, 487, 1223, 1991, 1691, 1665, 185, 1622, 1553, 655, 911, 368, 827, 570, 771, 522, 82, 2026, 993, 651, 1040, 1639, 856, 306, 1277, 1863, 1078, 245, 720, 1571, 149, 2001, 332, 186, 1389, 1280, 790, 1950, 1004, 254, 1833, 1999, 1505, 488, 1914, 1330, 1677, 1928, 1193, 351, 823, 328, 1891, 1208, 341, 1875, 808, 618, 413, 180, 139, 1114, 1775, 366, 525, 62, 1246, 158, 1259, 1741, 1044, 1829, 162, 386, 1905, 211, 1849, 964, 1060, 65, 1304, 1755, 1513, 679, 1868, 1499, 709, 1808, 1121, 1067, 1512, 1002, 799, 1556, 2037, 902, 1046, 806, 229, 1101, 797, 169, 780, 820, 1624, 1853, 910, 1584, 1270, 1668, 1243, 605, 1261, 1253, 3, 1432, 1957, 1248, 620, 1099, 1263, 473, 9, 1301, 302, 34, 1247, 1828, 1626, 2, 1187, 490, 623, 599, 1789, 1260, 347, 751, 1674, 663, 2013, 2047, 56, 277, 737, 1532, 1416, 1680, 1793, 1150, 897, 1294, 1874, 1393, 415, 1424, 938, 395, 861, 1550, 685, 770, 1508, 1130, 1911, 1175, 600, 1714, 1510, 199, 607, 1926, 1912, 1649, 1904, 340, 1648, 402, 1601, 1611, 1948, 132, 1620, 1920, 1300, 821, 460, 1997, 1780, 1993, 633, 1092, 365, 1190, 1210, 2008, 1817, 1487, 1125, 1959, 216, 810, 683, 1494, 2046, 1395, 1918, 631, 1204, 1916, 1924, 572, 13, 2022, 28, 1965, 1666, 848, 537, 436, 32, 2039, 491, 72, 1199, 775, 269, 1563, 1973, 1464, 1835, 1638, 300, 928, 373, 671, 596, 1064, 1822, 504, 38, 698, 1712, 154, 1750, 1434, 385, 338, 1693, 1088, 952, 694, 1485, 1946, 1544, 703, 1030, 1279, 203, 1055, 259, 613, 519, 561, 1287, 1631, 295, 165, 1292, 1788, 1744, 1640, 1945, 1262, 785, 1635, 844, 475, 1423, 482, 1334, 1861, 1586, 899, 1023, 556, 1533, 1977, 787, 1266, 315, 1147, 989, 455, 957, 242, 36, 546, 1890, 84, 1324, 1422, 1896, 309, 1975, 1381, 1305, 1816, 1982, 746, 1452, 204, 1561, 881, 1321, 207, 1990, 1471, 624, 1710, 1440, 978, 318, 869, 1892, 1048, 571, 1787, 615, 247, 1264, 759, 140, 1412, 1296, 1098, 579, 284, 388, 1363, 974, 320, 1630, 1062, 1376, 1878, 656, 1460, 838, 183, 1274, 1230, 2019, 1293, 1606, 235, 975, 283, 1656, 1398, 942, 1643, 1229, 372, 611, 249, 111, 2023, 1490, 1642, 1268, 1237, 281, 1312, 1429, 1838, 761, 565, 258, 1233, 1074, 159, 293, 1139, 1082, 1516, 1338, 1427, 767, 1703, 1103, 1063, 1759, 1507, 864, 286, 705, 926, 1545, 1005, 150, 1663, 1771, 1448, 1327, 202, 429, 432, 665, 1848, 518, 1675, 1186, 842, 956, 1794, 1607, 1543, 71, 837, 936, 39, 5, 1344, 870, 762, 1445, 1917, 1758, 470, 1333, 22, 1475, 363, 376, 1824, 661, 398, 1779, 1722, 414, 1522, 586, 962, 1346, 1339, 1372, 68, 1730, 1806, 986, 2016])"
      ]
     },
     "execution_count": 23,
     "metadata": {},
     "output_type": "execute_result"
    }
   ],
   "source": [
    "## Example of hashed shingles \n",
    "documents[0].hashedShingles"
   ]
  },
  {
   "cell_type": "markdown",
   "metadata": {},
   "source": [
    "### Example: compute similarities for 10 documents."
   ]
  },
  {
   "cell_type": "code",
   "execution_count": 24,
   "metadata": {},
   "outputs": [
    {
     "data": {
      "text/html": [
       "<div>\n",
       "<style>\n",
       "    .dataframe thead tr:only-child th {\n",
       "        text-align: right;\n",
       "    }\n",
       "\n",
       "    .dataframe thead th {\n",
       "        text-align: left;\n",
       "    }\n",
       "\n",
       "    .dataframe tbody tr th {\n",
       "        vertical-align: top;\n",
       "    }\n",
       "</style>\n",
       "<table border=\"1\" class=\"dataframe\">\n",
       "  <thead>\n",
       "    <tr style=\"text-align: right;\">\n",
       "      <th></th>\n",
       "      <th>0</th>\n",
       "      <th>1</th>\n",
       "      <th>2</th>\n",
       "      <th>3</th>\n",
       "      <th>4</th>\n",
       "      <th>5</th>\n",
       "      <th>6</th>\n",
       "      <th>7</th>\n",
       "      <th>8</th>\n",
       "    </tr>\n",
       "  </thead>\n",
       "  <tbody>\n",
       "    <tr>\n",
       "      <th>0</th>\n",
       "      <td>1.000000</td>\n",
       "      <td>0.762231</td>\n",
       "      <td>0.419814</td>\n",
       "      <td>0.314484</td>\n",
       "      <td>0.546178</td>\n",
       "      <td>0.512313</td>\n",
       "      <td>0.485278</td>\n",
       "      <td>0.598126</td>\n",
       "      <td>0.430641</td>\n",
       "    </tr>\n",
       "    <tr>\n",
       "      <th>1</th>\n",
       "      <td>0.762231</td>\n",
       "      <td>1.000000</td>\n",
       "      <td>0.498531</td>\n",
       "      <td>0.345098</td>\n",
       "      <td>0.655561</td>\n",
       "      <td>0.610078</td>\n",
       "      <td>0.561429</td>\n",
       "      <td>0.731636</td>\n",
       "      <td>0.487984</td>\n",
       "    </tr>\n",
       "    <tr>\n",
       "      <th>2</th>\n",
       "      <td>0.419814</td>\n",
       "      <td>0.498531</td>\n",
       "      <td>1.000000</td>\n",
       "      <td>0.278351</td>\n",
       "      <td>0.415522</td>\n",
       "      <td>0.377791</td>\n",
       "      <td>0.363750</td>\n",
       "      <td>0.421023</td>\n",
       "      <td>0.320730</td>\n",
       "    </tr>\n",
       "    <tr>\n",
       "      <th>3</th>\n",
       "      <td>0.314484</td>\n",
       "      <td>0.345098</td>\n",
       "      <td>0.278351</td>\n",
       "      <td>1.000000</td>\n",
       "      <td>0.306421</td>\n",
       "      <td>0.283943</td>\n",
       "      <td>0.284240</td>\n",
       "      <td>0.310427</td>\n",
       "      <td>0.241830</td>\n",
       "    </tr>\n",
       "    <tr>\n",
       "      <th>4</th>\n",
       "      <td>0.546178</td>\n",
       "      <td>0.655561</td>\n",
       "      <td>0.415522</td>\n",
       "      <td>0.306421</td>\n",
       "      <td>1.000000</td>\n",
       "      <td>0.460977</td>\n",
       "      <td>0.439010</td>\n",
       "      <td>0.533118</td>\n",
       "      <td>0.399165</td>\n",
       "    </tr>\n",
       "    <tr>\n",
       "      <th>5</th>\n",
       "      <td>0.512313</td>\n",
       "      <td>0.610078</td>\n",
       "      <td>0.377791</td>\n",
       "      <td>0.283943</td>\n",
       "      <td>0.460977</td>\n",
       "      <td>1.000000</td>\n",
       "      <td>0.432047</td>\n",
       "      <td>0.501088</td>\n",
       "      <td>0.370370</td>\n",
       "    </tr>\n",
       "    <tr>\n",
       "      <th>6</th>\n",
       "      <td>0.485278</td>\n",
       "      <td>0.561429</td>\n",
       "      <td>0.363750</td>\n",
       "      <td>0.284240</td>\n",
       "      <td>0.439010</td>\n",
       "      <td>0.432047</td>\n",
       "      <td>1.000000</td>\n",
       "      <td>0.464463</td>\n",
       "      <td>0.353421</td>\n",
       "    </tr>\n",
       "    <tr>\n",
       "      <th>7</th>\n",
       "      <td>0.598126</td>\n",
       "      <td>0.731636</td>\n",
       "      <td>0.421023</td>\n",
       "      <td>0.310427</td>\n",
       "      <td>0.533118</td>\n",
       "      <td>0.501088</td>\n",
       "      <td>0.464463</td>\n",
       "      <td>1.000000</td>\n",
       "      <td>0.418367</td>\n",
       "    </tr>\n",
       "    <tr>\n",
       "      <th>8</th>\n",
       "      <td>0.430641</td>\n",
       "      <td>0.487984</td>\n",
       "      <td>0.320730</td>\n",
       "      <td>0.241830</td>\n",
       "      <td>0.399165</td>\n",
       "      <td>0.370370</td>\n",
       "      <td>0.353421</td>\n",
       "      <td>0.418367</td>\n",
       "      <td>1.000000</td>\n",
       "    </tr>\n",
       "  </tbody>\n",
       "</table>\n",
       "</div>"
      ],
      "text/plain": [
       "          0         1         2         3         4         5         6  \\\n",
       "0  1.000000  0.762231  0.419814  0.314484  0.546178  0.512313  0.485278   \n",
       "1  0.762231  1.000000  0.498531  0.345098  0.655561  0.610078  0.561429   \n",
       "2  0.419814  0.498531  1.000000  0.278351  0.415522  0.377791  0.363750   \n",
       "3  0.314484  0.345098  0.278351  1.000000  0.306421  0.283943  0.284240   \n",
       "4  0.546178  0.655561  0.415522  0.306421  1.000000  0.460977  0.439010   \n",
       "5  0.512313  0.610078  0.377791  0.283943  0.460977  1.000000  0.432047   \n",
       "6  0.485278  0.561429  0.363750  0.284240  0.439010  0.432047  1.000000   \n",
       "7  0.598126  0.731636  0.421023  0.310427  0.533118  0.501088  0.464463   \n",
       "8  0.430641  0.487984  0.320730  0.241830  0.399165  0.370370  0.353421   \n",
       "\n",
       "          7         8  \n",
       "0  0.598126  0.430641  \n",
       "1  0.731636  0.487984  \n",
       "2  0.421023  0.320730  \n",
       "3  0.310427  0.241830  \n",
       "4  0.533118  0.399165  \n",
       "5  0.501088  0.370370  \n",
       "6  0.464463  0.353421  \n",
       "7  1.000000  0.418367  \n",
       "8  0.418367  1.000000  "
      ]
     },
     "execution_count": 24,
     "metadata": {},
     "output_type": "execute_result"
    }
   ],
   "source": [
    "# Compute jaccard of some documents and store in dataframe\n",
    "n_docs = 9\n",
    "similarity_threshold = 0.5\n",
    "similarities = np.zeros((n_docs, n_docs))\n",
    "for i in range(n_docs): \n",
    "    for j in range(n_docs): \n",
    "        similarities[i, j] = documents[i].jaccardSimilarity(documents[j])\n",
    "        \n",
    "simDF = pd.DataFrame(similarities)\n",
    "simDF.head(n_docs)"
   ]
  },
  {
   "cell_type": "markdown",
   "metadata": {},
   "source": [
    "## Jaccard Similarity results \n",
    "### Find similar docs"
   ]
  },
  {
   "cell_type": "code",
   "execution_count": 25,
   "metadata": {},
   "outputs": [
    {
     "name": "stdout",
     "output_type": "stream",
     "text": [
      "Documents 0 and 1 are similar, similarity 0.7622\n",
      "Documents 0 and 4 are similar, similarity 0.5462\n",
      "Documents 0 and 5 are similar, similarity 0.5123\n",
      "Documents 0 and 7 are similar, similarity 0.5981\n",
      "Documents 1 and 4 are similar, similarity 0.6556\n",
      "Documents 1 and 5 are similar, similarity 0.6101\n",
      "Documents 1 and 6 are similar, similarity 0.5614\n",
      "Documents 1 and 7 are similar, similarity 0.7316\n",
      "Documents 4 and 7 are similar, similarity 0.5331\n",
      "Documents 5 and 7 are similar, similarity 0.5011\n"
     ]
    }
   ],
   "source": [
    "similar = []\n",
    "for i in range(n_docs): \n",
    "    for j in range(n_docs): \n",
    "        if(similarities[i, j] > similarity_threshold):\n",
    "            if (i < j): ## This is in order to just include each pair once.. \n",
    "                print(\"Documents {} and {} are similar, similarity {}\".format(i, j, round(similarities[i, j], 4)))\n",
    "                similar.append((i, j))"
   ]
  },
  {
   "cell_type": "code",
   "execution_count": 26,
   "metadata": {},
   "outputs": [
    {
     "name": "stdout",
     "output_type": "stream",
     "text": [
      "Oct 30 2009 \tOK value though shabby; good position.\tI extended a one night stay to three. The staff were basically helpful when asked. My room was clean, comfortable, and daily serviced. I think the position is good for a budget hotel, near the Golden Gate theatre, right by Asian Arts Museum and Civic Centre. It's an old and architecturally atmospheric hotel.Negatives: it is very badly neglected. Things that might put you off are the need usually to ring the outside doorbell and wait to get some\n",
      "\n",
      "\n",
      "Oct 28 2009 \tGood value\tNice little hotel in a great location. Not 5* but then you're not paying 5* rates. Clean, friendly staff and an easy 5 minute walk to Union Square.\t\n",
      "Oct 25 2009 \tGood location but cramped and unclean\tWe stayed in the Adante for two nights when we arrived in SF and again for one night the following week before we left. The hotel is ideally situated only a short walk from Union Square and the front desk staff were helpful. We were allowed to check-in early and were even on \n"
     ]
    }
   ],
   "source": [
    "## Show first part of two similar'docs\n",
    "print(documents[similar[0][0]].text[0:500])\n",
    "print(\"\\n\")\n",
    "print(documents[similar[0][1]].text[0:500])"
   ]
  },
  {
   "cell_type": "markdown",
   "metadata": {},
   "source": [
    "# 2. Min-Hashing\n",
    "- Create a set of k random hash function\n",
    "- Get the signature of each document by: \n",
    "    - for each shingle e in doc\n",
    "        - save the index i of the hash function producing smallest h(e)\n",
    "        \n",
    "        \n",
    "## Hyperparameters\n",
    "\n",
    "#### n_buckets\n",
    "The number of hash buckets (or the number of different possible output values for the hash function). A high n_buckets will yield low similarity measures, because more possible hash values means fewer shingles will be hashed to the same buckets.\n",
    "\n",
    "#### n_hashes \n",
    "The number of hash functions used to create the min hashing signature. \n",
    "\n"
   ]
  },
  {
   "cell_type": "code",
   "execution_count": 27,
   "metadata": {
    "collapsed": true
   },
   "outputs": [],
   "source": [
    "n_hashes = 100\n",
    "n_buckets = 2 ** 11 # number of hash buckets. This strongly affects the measure of similarity\n"
   ]
  },
  {
   "cell_type": "code",
   "execution_count": 28,
   "metadata": {},
   "outputs": [
    {
     "name": "stderr",
     "output_type": "stream",
     "text": [
      "/Users/philipclaesson/anaconda3/lib/python3.6/site-packages/ipykernel_launcher.py:13: RuntimeWarning: overflow encountered in long_scalars\n",
      "  del sys.path[0]\n"
     ]
    },
    {
     "name": "stdout",
     "output_type": "stream",
     "text": [
      "Processed doc 0\n",
      "Processed doc 1\n",
      "Processed doc 2\n",
      "Processed doc 3\n",
      "Processed doc 4\n",
      "Processed doc 5\n",
      "Processed doc 6\n",
      "Processed doc 7\n",
      "Processed doc 8\n"
     ]
    }
   ],
   "source": [
    "## Create a set of k random hash functions (permutations). \n",
    "h = Hasher(n_hashes, n_buckets)\n",
    "h.generateRandomHashFunctions()\n",
    "\n",
    "## Create signatures for each set\n",
    "for count, d in enumerate(documents):\n",
    "    d.createSignature(h)\n",
    "    print(\"Processed doc {}\".format(count))\n"
   ]
  },
  {
   "cell_type": "code",
   "execution_count": 29,
   "metadata": {
    "scrolled": true
   },
   "outputs": [
    {
     "data": {
      "text/plain": [
       "array([  0.,   0.,   0.,  30.,   1.,   2.,   1.,   2.,   0.,   0.,   0.,\n",
       "         1.,   0.,   1.,   0.,   0.,   0.,   0.,   0.,   0.,   1.,   2.,\n",
       "         1.,   1.,   1.,   0.,   0.,   2.,   0.,   3.,   0.,   0.,   3.,\n",
       "         0.,   0.,   1.,   0.,   1.,   8.,   1.,   0.,   0.,   0.,   5.,\n",
       "         3.,   0.,   0.,   0.,   0.,  25.,   0.,   0.,   0.,   0.,   1.,\n",
       "         0.,   1.,   0.,   0.,   2.,   0.,   0.,   4.,   0.,   0.,   0.,\n",
       "         0.,   0.,   0.,   0.,   0.,   1.,   0.,   0.,   7.,   1.,   0.,\n",
       "         0.,   1.,   0.,   0.,   0.,  18.,   1.,   0.,   3.,   0.,   0.,\n",
       "         0.,   0.,   0.,   6.,   0.,   0.,   0.,   0.,   1.,   1.,   0.,\n",
       "         1.])"
      ]
     },
     "execution_count": 29,
     "metadata": {},
     "output_type": "execute_result"
    }
   ],
   "source": [
    "# Example of document signature\n",
    "documents[0].signature"
   ]
  },
  {
   "cell_type": "markdown",
   "metadata": {},
   "source": [
    "### Example: compute similarities for 10 documents."
   ]
  },
  {
   "cell_type": "code",
   "execution_count": 30,
   "metadata": {},
   "outputs": [
    {
     "data": {
      "text/html": [
       "<div>\n",
       "<style>\n",
       "    .dataframe thead tr:only-child th {\n",
       "        text-align: right;\n",
       "    }\n",
       "\n",
       "    .dataframe thead th {\n",
       "        text-align: left;\n",
       "    }\n",
       "\n",
       "    .dataframe tbody tr th {\n",
       "        vertical-align: top;\n",
       "    }\n",
       "</style>\n",
       "<table border=\"1\" class=\"dataframe\">\n",
       "  <thead>\n",
       "    <tr style=\"text-align: right;\">\n",
       "      <th></th>\n",
       "      <th>0</th>\n",
       "      <th>1</th>\n",
       "      <th>2</th>\n",
       "      <th>3</th>\n",
       "      <th>4</th>\n",
       "      <th>5</th>\n",
       "      <th>6</th>\n",
       "      <th>7</th>\n",
       "      <th>8</th>\n",
       "    </tr>\n",
       "  </thead>\n",
       "  <tbody>\n",
       "    <tr>\n",
       "      <th>0</th>\n",
       "      <td>1.00</td>\n",
       "      <td>0.94</td>\n",
       "      <td>0.73</td>\n",
       "      <td>0.56</td>\n",
       "      <td>0.74</td>\n",
       "      <td>0.77</td>\n",
       "      <td>0.70</td>\n",
       "      <td>0.88</td>\n",
       "      <td>0.66</td>\n",
       "    </tr>\n",
       "    <tr>\n",
       "      <th>1</th>\n",
       "      <td>0.94</td>\n",
       "      <td>1.00</td>\n",
       "      <td>0.76</td>\n",
       "      <td>0.57</td>\n",
       "      <td>0.76</td>\n",
       "      <td>0.78</td>\n",
       "      <td>0.76</td>\n",
       "      <td>0.90</td>\n",
       "      <td>0.66</td>\n",
       "    </tr>\n",
       "    <tr>\n",
       "      <th>2</th>\n",
       "      <td>0.73</td>\n",
       "      <td>0.76</td>\n",
       "      <td>1.00</td>\n",
       "      <td>0.51</td>\n",
       "      <td>0.64</td>\n",
       "      <td>0.64</td>\n",
       "      <td>0.62</td>\n",
       "      <td>0.70</td>\n",
       "      <td>0.61</td>\n",
       "    </tr>\n",
       "    <tr>\n",
       "      <th>3</th>\n",
       "      <td>0.56</td>\n",
       "      <td>0.57</td>\n",
       "      <td>0.51</td>\n",
       "      <td>1.00</td>\n",
       "      <td>0.58</td>\n",
       "      <td>0.55</td>\n",
       "      <td>0.52</td>\n",
       "      <td>0.57</td>\n",
       "      <td>0.53</td>\n",
       "    </tr>\n",
       "    <tr>\n",
       "      <th>4</th>\n",
       "      <td>0.74</td>\n",
       "      <td>0.76</td>\n",
       "      <td>0.64</td>\n",
       "      <td>0.58</td>\n",
       "      <td>1.00</td>\n",
       "      <td>0.66</td>\n",
       "      <td>0.68</td>\n",
       "      <td>0.71</td>\n",
       "      <td>0.63</td>\n",
       "    </tr>\n",
       "    <tr>\n",
       "      <th>5</th>\n",
       "      <td>0.77</td>\n",
       "      <td>0.78</td>\n",
       "      <td>0.64</td>\n",
       "      <td>0.55</td>\n",
       "      <td>0.66</td>\n",
       "      <td>1.00</td>\n",
       "      <td>0.65</td>\n",
       "      <td>0.70</td>\n",
       "      <td>0.61</td>\n",
       "    </tr>\n",
       "    <tr>\n",
       "      <th>6</th>\n",
       "      <td>0.70</td>\n",
       "      <td>0.76</td>\n",
       "      <td>0.62</td>\n",
       "      <td>0.52</td>\n",
       "      <td>0.68</td>\n",
       "      <td>0.65</td>\n",
       "      <td>1.00</td>\n",
       "      <td>0.69</td>\n",
       "      <td>0.61</td>\n",
       "    </tr>\n",
       "    <tr>\n",
       "      <th>7</th>\n",
       "      <td>0.88</td>\n",
       "      <td>0.90</td>\n",
       "      <td>0.70</td>\n",
       "      <td>0.57</td>\n",
       "      <td>0.71</td>\n",
       "      <td>0.70</td>\n",
       "      <td>0.69</td>\n",
       "      <td>1.00</td>\n",
       "      <td>0.64</td>\n",
       "    </tr>\n",
       "    <tr>\n",
       "      <th>8</th>\n",
       "      <td>0.66</td>\n",
       "      <td>0.66</td>\n",
       "      <td>0.61</td>\n",
       "      <td>0.53</td>\n",
       "      <td>0.63</td>\n",
       "      <td>0.61</td>\n",
       "      <td>0.61</td>\n",
       "      <td>0.64</td>\n",
       "      <td>1.00</td>\n",
       "    </tr>\n",
       "  </tbody>\n",
       "</table>\n",
       "</div>"
      ],
      "text/plain": [
       "      0     1     2     3     4     5     6     7     8\n",
       "0  1.00  0.94  0.73  0.56  0.74  0.77  0.70  0.88  0.66\n",
       "1  0.94  1.00  0.76  0.57  0.76  0.78  0.76  0.90  0.66\n",
       "2  0.73  0.76  1.00  0.51  0.64  0.64  0.62  0.70  0.61\n",
       "3  0.56  0.57  0.51  1.00  0.58  0.55  0.52  0.57  0.53\n",
       "4  0.74  0.76  0.64  0.58  1.00  0.66  0.68  0.71  0.63\n",
       "5  0.77  0.78  0.64  0.55  0.66  1.00  0.65  0.70  0.61\n",
       "6  0.70  0.76  0.62  0.52  0.68  0.65  1.00  0.69  0.61\n",
       "7  0.88  0.90  0.70  0.57  0.71  0.70  0.69  1.00  0.64\n",
       "8  0.66  0.66  0.61  0.53  0.63  0.61  0.61  0.64  1.00"
      ]
     },
     "execution_count": 30,
     "metadata": {},
     "output_type": "execute_result"
    }
   ],
   "source": [
    "# Compute minhash signature similarity of some documents and store in dataframe\n",
    "n_docs = 9\n",
    "similarity_threshold = 0.7\n",
    "similarities = np.zeros((n_docs, n_docs))\n",
    "for i in range(n_docs): \n",
    "    for j in range(n_docs): \n",
    "        similarities[i, j] = documents[i].signatureSimilarity(documents[j])\n",
    "        \n",
    "simDF = pd.DataFrame(similarities)\n",
    "simDF.head(n_docs)"
   ]
  },
  {
   "cell_type": "markdown",
   "metadata": {},
   "source": [
    "## Min-hashing results\n",
    "### Find similar docs"
   ]
  },
  {
   "cell_type": "code",
   "execution_count": 31,
   "metadata": {},
   "outputs": [
    {
     "name": "stdout",
     "output_type": "stream",
     "text": [
      "Documents 0 and 1 are similar, similarity 0.94\n",
      "Documents 0 and 2 are similar, similarity 0.73\n",
      "Documents 0 and 4 are similar, similarity 0.74\n",
      "Documents 0 and 5 are similar, similarity 0.77\n",
      "Documents 0 and 7 are similar, similarity 0.88\n",
      "Documents 1 and 2 are similar, similarity 0.76\n",
      "Documents 1 and 4 are similar, similarity 0.76\n",
      "Documents 1 and 5 are similar, similarity 0.78\n",
      "Documents 1 and 6 are similar, similarity 0.76\n",
      "Documents 1 and 7 are similar, similarity 0.9\n",
      "Documents 4 and 7 are similar, similarity 0.71\n"
     ]
    }
   ],
   "source": [
    "similar = []\n",
    "for i in range(n_docs): \n",
    "    for j in range(n_docs): \n",
    "        if(similarities[i, j] > similarity_threshold):\n",
    "            if (i < j): ## This is in order to just include each pair once.. \n",
    "                print(\"Documents {} and {} are similar, similarity {}\".format(i, j, round(similarities[i, j], 4)))\n",
    "                similar.append((i, j))\n",
    "    \n",
    "    "
   ]
  },
  {
   "cell_type": "code",
   "execution_count": null,
   "metadata": {
    "collapsed": true
   },
   "outputs": [],
   "source": []
  },
  {
   "cell_type": "markdown",
   "metadata": {},
   "source": [
    "# 3. Locality Sensitive Hashing \n",
    "- Hash bands of signatures of each document into buckets \n",
    "- For each bucket, add all docs in the same bucket to a a set of Candidate Pairs\n",
    "- Filter out candidate pairs which are less similar than t (false positives) to get the Similar Pairs\n",
    "\n",
    "## Hyperparameters\n",
    "\n",
    "### n_bands and n_rows\n",
    "The number of bands, and number of rows in each band. b * r should be equal to the number of integers in the signature of a document, n. \n",
    "\n",
    "### t\n",
    "The threshold of similarity to filter out not false positives from candidate pairs. \n",
    "\n",
    "### n_lsh_buckets\n",
    "The number of buckets in the hash function which hashes the bands of the signatures. Should be as large as possible, but increases the runtime! "
   ]
  },
  {
   "cell_type": "markdown",
   "metadata": {},
   "source": []
  },
  {
   "cell_type": "code",
   "execution_count": 32,
   "metadata": {
    "collapsed": true
   },
   "outputs": [],
   "source": [
    "## Hyperparameters\n",
    "n_bands = 20\n",
    "n_rows = 5 # rows per band\n",
    "t = 0.55 # (1/n_bands) ** (1/n_rows) = 0.549\n",
    "n_lsh_buckets = 2 ** 20"
   ]
  },
  {
   "cell_type": "code",
   "execution_count": 33,
   "metadata": {
    "collapsed": true
   },
   "outputs": [],
   "source": [
    "lsh = LSH(n_bands = n_bands, n_rows = n_rows, t = t, n_buckets = n_lsh_buckets)\n",
    "\n",
    "candidate_pairs = lsh.getCandidatePairs(documents)\n",
    "\n",
    "similar_pairs = lsh.getSimilarPairs(documents) "
   ]
  },
  {
   "cell_type": "code",
   "execution_count": 34,
   "metadata": {},
   "outputs": [
    {
     "name": "stdout",
     "output_type": "stream",
     "text": [
      "Out of 9 documents, 28 candidate pairs were found. Out of these, 27 had a similarity of at least 0.55. \n"
     ]
    }
   ],
   "source": [
    "print(\"Out of {} documents, {} candidate pairs were found. Out of these, {} had a similarity of at least {}. \"\n",
    "      .format(len(documents), len(candidate_pairs), len(similar_pairs), t))\n",
    "\n"
   ]
  },
  {
   "cell_type": "markdown",
   "metadata": {},
   "source": [
    "## LSH Result\n",
    "### Find similar docs"
   ]
  },
  {
   "cell_type": "code",
   "execution_count": 35,
   "metadata": {},
   "outputs": [
    {
     "name": "stdout",
     "output_type": "stream",
     "text": [
      "Documents 4 and 7 are similar, similarity 0.71\n",
      "Documents 0 and 5 are similar, similarity 0.77\n",
      "Documents 0 and 2 are similar, similarity 0.73\n",
      "Documents 1 and 4 are similar, similarity 0.76\n",
      "Documents 1 and 7 are similar, similarity 0.9\n",
      "Documents 1 and 2 are similar, similarity 0.76\n",
      "Documents 1 and 6 are similar, similarity 0.76\n",
      "Documents 0 and 7 are similar, similarity 0.88\n",
      "Documents 0 and 4 are similar, similarity 0.74\n",
      "Documents 0 and 1 are similar, similarity 0.94\n",
      "Documents 1 and 5 are similar, similarity 0.78\n"
     ]
    }
   ],
   "source": [
    "for d1, d2, sim in (similar_pairs): \n",
    "    if (sim > similarity_threshold):\n",
    "        print(\"Documents {} and {} are similar, similarity {}\".format(d1, d2, round(sim, 4)))\n",
    "\n",
    "    "
   ]
  },
  {
   "cell_type": "code",
   "execution_count": 36,
   "metadata": {},
   "outputs": [
    {
     "name": "stdout",
     "output_type": "stream",
     "text": [
      "Doc 0 and 1 are considered among the most equal, they correspond to the files 'usa_san francisco_abigail_hotel and 'usa_san francisco_adante_hotel' which can be found in \n"
     ]
    }
   ],
   "source": [
    "print(\"Doc 0 and 1 are considered among the most equal, they correspond to the files '{} and '{}' which can be found in \".format(documents[0].filename, documents[1].filename))"
   ]
  },
  {
   "cell_type": "code",
   "execution_count": null,
   "metadata": {
    "collapsed": true
   },
   "outputs": [],
   "source": []
  }
 ],
 "metadata": {
  "kernelspec": {
   "display_name": "Python 3",
   "language": "python",
   "name": "python3"
  },
  "language_info": {
   "codemirror_mode": {
    "name": "ipython",
    "version": 3
   },
   "file_extension": ".py",
   "mimetype": "text/x-python",
   "name": "python",
   "nbconvert_exporter": "python",
   "pygments_lexer": "ipython3",
   "version": "3.6.2"
  }
 },
 "nbformat": 4,
 "nbformat_minor": 2
}
