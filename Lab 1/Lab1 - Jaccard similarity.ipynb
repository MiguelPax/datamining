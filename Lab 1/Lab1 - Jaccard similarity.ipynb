{
 "cells": [
  {
   "cell_type": "code",
   "execution_count": 81,
   "metadata": {
    "collapsed": true
   },
   "outputs": [],
   "source": [
    "## !!! typical mistake: comparing signatures is given as probability. Using jaccard to compute this will result ina division by 200 which does not make sense! \n",
    "import pandas as pd\n",
    "import numpy as np\n",
    "import hashlib"
   ]
  },
  {
   "cell_type": "markdown",
   "metadata": {},
   "source": [
    "## Objective\n",
    "The task is to implement the stages of finding textually similar documents based on Jaccard similarity using the shingling, minhashing, and locality-sensitive hashing (LSH) techniques and corresponding algorithms. "
   ]
  },
  {
   "cell_type": "code",
   "execution_count": 111,
   "metadata": {
    "collapsed": true
   },
   "outputs": [],
   "source": [
    "with open(\"../data/OpinRankDataset/hotels/small_sample/usa_san francisco_abigail_hotel\", encoding='utf-8', errors='replace') as f: \n",
    "    raw_documents = f.readlines()"
   ]
  },
  {
   "cell_type": "code",
   "execution_count": 112,
   "metadata": {},
   "outputs": [
    {
     "name": "stdout",
     "output_type": "stream",
     "text": [
      "31\n"
     ]
    }
   ],
   "source": [
    "## Number of documents\n",
    "print(len(raw_documents))"
   ]
  },
  {
   "cell_type": "markdown",
   "metadata": {},
   "source": [
    "## Hyperparameters\n",
    "\n",
    "#### n_buckets\n",
    "The number of hash buckets (or the number of different possible output values for the hash function). A high n_buckets will yield low similarity measures, because more possible hash values means fewer shingles will be hashed to the same buckets.\n",
    "\n",
    "#### shingle_length\n",
    "The number of characters in each shingle. Large value will yield low similarity measures, as there will be more combinations of shingles. \n",
    "\n",
    "#### n_hashes \n",
    "The number of hash functions"
   ]
  },
  {
   "cell_type": "code",
   "execution_count": 402,
   "metadata": {
    "collapsed": true
   },
   "outputs": [],
   "source": [
    "n_buckets = 2 ** 6 # number of hash buckets. This strongly affects the measure of similarity\n",
    "shingle_length = 10"
   ]
  },
  {
   "cell_type": "code",
   "execution_count": 403,
   "metadata": {},
   "outputs": [],
   "source": [
    "class Document: \n",
    "    def __init__(this, text, n_buckets, shingle_length):\n",
    "        this.text = text\n",
    "        this.length = len(text)\n",
    "        this.n_buckets = n_buckets\n",
    "        this.shingle_length = shingle_length\n",
    "    \n",
    "    def createShingles(this): \n",
    "        this.shingles = set()\n",
    "        \n",
    "        ## number of shingles = length/k\n",
    "        n = int(this.length/this.shingle_length)\n",
    "        \n",
    "        ## slice string\n",
    "        for i in range(n-1):\n",
    "            this.shingles.add(this.text[slice(this.shingle_length * i, this.shingle_length * (i+1))])\n",
    "    \n",
    "    def hashShingles(this):\n",
    "        this.hashedShingles = set()\n",
    "        \n",
    "        for shingle in this.shingles: \n",
    "            this.hashedShingles.add(this.hashStr(shingle))\n",
    "    \n",
    "    def hashStr(this, string):\n",
    "        ## Hashes a string to an integer 0 <= i < n_buckets\n",
    "        return abs(hash(string)) % (this.n_buckets)\n",
    "    \n",
    "    def jaccardSimilarity(this, other): \n",
    "        ## Compares two docs based on the jaccard similarity of the hashed shingles. \n",
    "        intersection = this.hashedShingles.intersection(other.hashedShingles)\n",
    "        union = this.hashedShingles.union(other.hashedShingles)\n",
    "        return (len(intersection)/len(union))\n",
    "    \n",
    "    def createSignature(this, h):\n",
    "        ## builds a minHash signature (in the form of a vector or a set) of a given length n from a given set of integers (a set of hashed shingles).\n",
    "        this.signature = np.ones(h.n_hashes) * np.inf ## the signature has length k, corresponding to each hash\n",
    "        for i in range(h.n_hashes):\n",
    "            for e in this.shingles:\n",
    "                this.signature[i] = np.minimum(this.signature[i], h.hash(i, e)) # keep the smallest hash value of each hash function only\n",
    "        \n",
    "    def signatureSimilarity(this, other):\n",
    "        ## estimates similarity of two integer vectors – minhash signatures – as a fraction of components, in which they agree.\n",
    "        agree = 0\n",
    "        \n",
    "        for i in range(this.signature.size): \n",
    "            if (this.signature[i] == other.signature[i]): \n",
    "                agree += 1\n",
    "                \n",
    "        similarity = agree/this.signature.size\n",
    "        return similarity\n",
    "        "
   ]
  },
  {
   "cell_type": "code",
   "execution_count": 412,
   "metadata": {},
   "outputs": [],
   "source": [
    "class Hasher: \n",
    "    def __init__(this, n_hashes, n_buckets): \n",
    "        ## A class that contains k random hash functions\n",
    "        this.n_hashes = n_hashes\n",
    "        this.n_buckets = n_buckets\n",
    "        \n",
    "        \n",
    "    def hash(this, i, string): \n",
    "        ## returns hash function i of x: h_i(x)\n",
    "        a = this.a_values[i]\n",
    "        b = this.b_values[i]\n",
    "        x = abs(hash(string))\n",
    "        return (a*x + b) % this.n_buckets\n",
    "    \n",
    "    def generateRandomHashFunctions(this):\n",
    "        # Each hash function is a function of random parameters a, b and c. \n",
    "        # create a and b values: 0 < random_interval_size\n",
    "        this.a_values = (np.random.rand(this.n_hashes) * this.n_buckets).astype(int)\n",
    "        this.b_values = (np.random.rand(this.n_hashes) * this.n_buckets).astype(int)\n",
    "        \n",
    "    def getHashMatrix(this, shingles):\n",
    "        # Creates a hash matrix based on an input array of shingles\n",
    "        # M(i, j) = h_i(e_j)\n",
    "        this.hash_matrix = np.zeros((this.n_hashes, shingles.size))\n",
    "        for i in range(this.n_hashes): # for each hash function\n",
    "            for e in shingles:\n",
    "                this.hash_matrix[i, j] = this.hash(i, e)\n",
    "                \n",
    "    "
   ]
  },
  {
   "cell_type": "markdown",
   "metadata": {},
   "source": [
    "### Create documents. add to an array Documents\n"
   ]
  },
  {
   "cell_type": "code",
   "execution_count": 405,
   "metadata": {},
   "outputs": [
    {
     "data": {
      "text/plain": [
       "\"Oct 30 2009 \\tOK value though shabby; good position.\\tI extended a one night stay to three. The staff were basically helpful when asked. My room was clean, comfortable, and daily serviced. I think the position is good for a budget hotel, near the Golden Gate theatre, right by Asian Arts Museum and Civic Centre. It's an old and architecturally atmospheric hotel.Negatives: it is very badly neglected. Things that might put you off are the need usually to ring the outside doorbell and wait to get someone to the unattended reception, unreliable breakfast availability (nil when I was there but I can see from other reviews that it can appear!), a very unreliable (but rather beautiful) classic Otis elevator, some very dilapidated corridors on the way to your room when the elevator is kaput, shabby though formerly elegant decor, homeless on nearby streets, though the street immediately outside was clear and felt safe and I didn't see any drug taking or pushing and I was never bothered anywhere. However, I rather liked both hotel and neighbourhood and felt it was OK value. One thing - when I extended my stay they raised the rate above the internet rate which was in the fifties to $70.\\t\\n\""
      ]
     },
     "execution_count": 405,
     "metadata": {},
     "output_type": "execute_result"
    }
   ],
   "source": [
    "documents = []\n",
    "for d in raw_documents:\n",
    "    documents.append(Document(d, n_buckets, n_shingles))\n",
    "documents[0].text"
   ]
  },
  {
   "cell_type": "markdown",
   "metadata": {},
   "source": [
    "# 1. Jaccard Similarity of sets \n",
    "\n",
    "- Create shingle representation\n",
    "- Create hashed version of the representation. \n",
    "- Compute Jaccard Similarity of documents based on sets of hashed shingles \n"
   ]
  },
  {
   "cell_type": "code",
   "execution_count": 406,
   "metadata": {},
   "outputs": [
    {
     "name": "stdout",
     "output_type": "stream",
     "text": [
      "Jaccard Similarity of doc 0 and doc 1 is 0.4642857142857143\n"
     ]
    }
   ],
   "source": [
    "for d in documents: \n",
    "    d.createShingles()\n",
    "    d.hashShingles() \n",
    "    \n",
    "print(\"Jaccard Similarity of doc 0 and doc 1 is {}\".format(documents[0].jaccardSimilarity(documents[1])))"
   ]
  },
  {
   "cell_type": "markdown",
   "metadata": {},
   "source": [
    "### Example: compute similarities for 10 documents."
   ]
  },
  {
   "cell_type": "code",
   "execution_count": 407,
   "metadata": {},
   "outputs": [
    {
     "data": {
      "text/html": [
       "<div>\n",
       "<style>\n",
       "    .dataframe thead tr:only-child th {\n",
       "        text-align: right;\n",
       "    }\n",
       "\n",
       "    .dataframe thead th {\n",
       "        text-align: left;\n",
       "    }\n",
       "\n",
       "    .dataframe tbody tr th {\n",
       "        vertical-align: top;\n",
       "    }\n",
       "</style>\n",
       "<table border=\"1\" class=\"dataframe\">\n",
       "  <thead>\n",
       "    <tr style=\"text-align: right;\">\n",
       "      <th></th>\n",
       "      <th>0</th>\n",
       "      <th>1</th>\n",
       "      <th>2</th>\n",
       "      <th>3</th>\n",
       "      <th>4</th>\n",
       "      <th>5</th>\n",
       "      <th>6</th>\n",
       "      <th>7</th>\n",
       "      <th>8</th>\n",
       "      <th>9</th>\n",
       "    </tr>\n",
       "  </thead>\n",
       "  <tbody>\n",
       "    <tr>\n",
       "      <th>0</th>\n",
       "      <td>1.000000</td>\n",
       "      <td>0.464286</td>\n",
       "      <td>0.609375</td>\n",
       "      <td>0.639344</td>\n",
       "      <td>0.590164</td>\n",
       "      <td>0.396552</td>\n",
       "      <td>0.766667</td>\n",
       "      <td>0.440678</td>\n",
       "      <td>0.704918</td>\n",
       "      <td>0.746032</td>\n",
       "    </tr>\n",
       "    <tr>\n",
       "      <th>1</th>\n",
       "      <td>0.464286</td>\n",
       "      <td>1.000000</td>\n",
       "      <td>0.396552</td>\n",
       "      <td>0.444444</td>\n",
       "      <td>0.442308</td>\n",
       "      <td>0.255319</td>\n",
       "      <td>0.400000</td>\n",
       "      <td>0.340426</td>\n",
       "      <td>0.490909</td>\n",
       "      <td>0.466667</td>\n",
       "    </tr>\n",
       "    <tr>\n",
       "      <th>2</th>\n",
       "      <td>0.609375</td>\n",
       "      <td>0.396552</td>\n",
       "      <td>1.000000</td>\n",
       "      <td>0.677966</td>\n",
       "      <td>0.600000</td>\n",
       "      <td>0.454545</td>\n",
       "      <td>0.666667</td>\n",
       "      <td>0.448276</td>\n",
       "      <td>0.634921</td>\n",
       "      <td>0.758065</td>\n",
       "    </tr>\n",
       "    <tr>\n",
       "      <th>3</th>\n",
       "      <td>0.639344</td>\n",
       "      <td>0.444444</td>\n",
       "      <td>0.677966</td>\n",
       "      <td>1.000000</td>\n",
       "      <td>0.550000</td>\n",
       "      <td>0.400000</td>\n",
       "      <td>0.645161</td>\n",
       "      <td>0.421053</td>\n",
       "      <td>0.639344</td>\n",
       "      <td>0.709677</td>\n",
       "    </tr>\n",
       "    <tr>\n",
       "      <th>4</th>\n",
       "      <td>0.590164</td>\n",
       "      <td>0.442308</td>\n",
       "      <td>0.600000</td>\n",
       "      <td>0.550000</td>\n",
       "      <td>1.000000</td>\n",
       "      <td>0.345455</td>\n",
       "      <td>0.571429</td>\n",
       "      <td>0.500000</td>\n",
       "      <td>0.644068</td>\n",
       "      <td>0.661290</td>\n",
       "    </tr>\n",
       "    <tr>\n",
       "      <th>5</th>\n",
       "      <td>0.396552</td>\n",
       "      <td>0.255319</td>\n",
       "      <td>0.454545</td>\n",
       "      <td>0.400000</td>\n",
       "      <td>0.345455</td>\n",
       "      <td>1.000000</td>\n",
       "      <td>0.406780</td>\n",
       "      <td>0.347826</td>\n",
       "      <td>0.372881</td>\n",
       "      <td>0.380952</td>\n",
       "    </tr>\n",
       "    <tr>\n",
       "      <th>6</th>\n",
       "      <td>0.766667</td>\n",
       "      <td>0.400000</td>\n",
       "      <td>0.666667</td>\n",
       "      <td>0.645161</td>\n",
       "      <td>0.571429</td>\n",
       "      <td>0.406780</td>\n",
       "      <td>1.000000</td>\n",
       "      <td>0.380952</td>\n",
       "      <td>0.682540</td>\n",
       "      <td>0.750000</td>\n",
       "    </tr>\n",
       "    <tr>\n",
       "      <th>7</th>\n",
       "      <td>0.440678</td>\n",
       "      <td>0.340426</td>\n",
       "      <td>0.448276</td>\n",
       "      <td>0.421053</td>\n",
       "      <td>0.500000</td>\n",
       "      <td>0.347826</td>\n",
       "      <td>0.380952</td>\n",
       "      <td>1.000000</td>\n",
       "      <td>0.370968</td>\n",
       "      <td>0.516667</td>\n",
       "    </tr>\n",
       "    <tr>\n",
       "      <th>8</th>\n",
       "      <td>0.704918</td>\n",
       "      <td>0.490909</td>\n",
       "      <td>0.634921</td>\n",
       "      <td>0.639344</td>\n",
       "      <td>0.644068</td>\n",
       "      <td>0.372881</td>\n",
       "      <td>0.682540</td>\n",
       "      <td>0.370968</td>\n",
       "      <td>1.000000</td>\n",
       "      <td>0.774194</td>\n",
       "    </tr>\n",
       "    <tr>\n",
       "      <th>9</th>\n",
       "      <td>0.746032</td>\n",
       "      <td>0.466667</td>\n",
       "      <td>0.758065</td>\n",
       "      <td>0.709677</td>\n",
       "      <td>0.661290</td>\n",
       "      <td>0.380952</td>\n",
       "      <td>0.750000</td>\n",
       "      <td>0.516667</td>\n",
       "      <td>0.774194</td>\n",
       "      <td>1.000000</td>\n",
       "    </tr>\n",
       "  </tbody>\n",
       "</table>\n",
       "</div>"
      ],
      "text/plain": [
       "          0         1         2         3         4         5         6  \\\n",
       "0  1.000000  0.464286  0.609375  0.639344  0.590164  0.396552  0.766667   \n",
       "1  0.464286  1.000000  0.396552  0.444444  0.442308  0.255319  0.400000   \n",
       "2  0.609375  0.396552  1.000000  0.677966  0.600000  0.454545  0.666667   \n",
       "3  0.639344  0.444444  0.677966  1.000000  0.550000  0.400000  0.645161   \n",
       "4  0.590164  0.442308  0.600000  0.550000  1.000000  0.345455  0.571429   \n",
       "5  0.396552  0.255319  0.454545  0.400000  0.345455  1.000000  0.406780   \n",
       "6  0.766667  0.400000  0.666667  0.645161  0.571429  0.406780  1.000000   \n",
       "7  0.440678  0.340426  0.448276  0.421053  0.500000  0.347826  0.380952   \n",
       "8  0.704918  0.490909  0.634921  0.639344  0.644068  0.372881  0.682540   \n",
       "9  0.746032  0.466667  0.758065  0.709677  0.661290  0.380952  0.750000   \n",
       "\n",
       "          7         8         9  \n",
       "0  0.440678  0.704918  0.746032  \n",
       "1  0.340426  0.490909  0.466667  \n",
       "2  0.448276  0.634921  0.758065  \n",
       "3  0.421053  0.639344  0.709677  \n",
       "4  0.500000  0.644068  0.661290  \n",
       "5  0.347826  0.372881  0.380952  \n",
       "6  0.380952  0.682540  0.750000  \n",
       "7  1.000000  0.370968  0.516667  \n",
       "8  0.370968  1.000000  0.774194  \n",
       "9  0.516667  0.774194  1.000000  "
      ]
     },
     "execution_count": 407,
     "metadata": {},
     "output_type": "execute_result"
    }
   ],
   "source": [
    "# Compute jaccard of some documents and store in dataframe\n",
    "n_docs = 10\n",
    "similarity_threshold = 0.7\n",
    "similarities = np.zeros((n_docs, n_docs))\n",
    "for i in range(n_docs): \n",
    "    for j in range(n_docs): \n",
    "        similarities[i, j] = documents[i].jaccardSimilarity(documents[j])\n",
    "        \n",
    "simDF = pd.DataFrame(similarities)\n",
    "simDF.head(n_docs)"
   ]
  },
  {
   "cell_type": "markdown",
   "metadata": {},
   "source": [
    "### Find similar docs"
   ]
  },
  {
   "cell_type": "code",
   "execution_count": 408,
   "metadata": {},
   "outputs": [
    {
     "name": "stdout",
     "output_type": "stream",
     "text": [
      "Documents 0 and 6 are similar, similarity 0.7667\n",
      "Documents 0 and 8 are similar, similarity 0.7049\n",
      "Documents 0 and 9 are similar, similarity 0.746\n",
      "Documents 2 and 9 are similar, similarity 0.7581\n",
      "Documents 3 and 9 are similar, similarity 0.7097\n",
      "Documents 6 and 9 are similar, similarity 0.75\n",
      "Documents 8 and 9 are similar, similarity 0.7742\n"
     ]
    }
   ],
   "source": [
    "similar_pairs = []\n",
    "for i in range(n_docs): \n",
    "    for j in range(n_docs): \n",
    "        if(similarities[i, j] > similarity_threshold):\n",
    "            if (i < j): ## This is in order to just include each pair once.. \n",
    "                print(\"Documents {} and {} are similar, similarity {}\".format(i, j, round(similarities[i, j], 4)))\n",
    "                similar_pairs.append((i, j))"
   ]
  },
  {
   "cell_type": "code",
   "execution_count": 409,
   "metadata": {},
   "outputs": [
    {
     "name": "stdout",
     "output_type": "stream",
     "text": [
      "Oct 30 2009 \tOK value though shabby; good position.\tI extended a one night stay to three. The staff were basically helpful when asked. My room was clean, comfortable, and daily serviced. I think the position is good for a budget hotel, near the Golden Gate theatre, right by Asian Arts Museum and Civic Centre. It's an old and architecturally atmospheric hotel.Negatives: it is very badly neglected. Things that might put you off are the need usually to ring the outside doorbell and wait to get someone to the unattended reception, unreliable breakfast availability (nil when I was there but I can see from other reviews that it can appear!), a very unreliable (but rather beautiful) classic Otis elevator, some very dilapidated corridors on the way to your room when the elevator is kaput, shabby though formerly elegant decor, homeless on nearby streets, though the street immediately outside was clear and felt safe and I didn't see any drug taking or pushing and I was never bothered anywhere. However, I rather liked both hotel and neighbourhood and felt it was OK value. One thing - when I extended my stay they raised the rate above the internet rate which was in the fifties to $70.\t\n",
      "\n",
      "Apr 20 2008 \tHorror Hotel\tI stayed at this hotel with a friend due to its close proximity to a concert we were attending down the street at the Warfield. What a mistake!!! Yeah it had old decor and I couldn't fit on the bed ( I'm 6'3). but all off that pales in comparison to what I found in the bathroom. I noticed that the cute country style mirror was set in a window frame. So my first thought is &quot; I wonder if his opens like a window?&quot; so I grab the window frame and what do ya know it opened right up. So there I am standing in the bathroom staring through a hole in the wall into a dark hallway about four feet wide that ran the length of our room. So now I'm wondering if my mirror might be one-way and I'm afraid to shower or use the toilet. I also can't sleep the entire night from the fear of someone entering our room through this mirror. At different points through the night my friend and I could hear people in this vacant area outside our room. It felt like a bad horror movie. At least we could watch the Dealers selling crack outside our window all night for entertainment while we weren't sleeping. To sum up: I will not be staying at this hotel again.\t\n",
      "\n"
     ]
    }
   ],
   "source": [
    "print(documents[similar_pairs[0][0]].text)\n",
    "print(documents[similar_pairs[0][1]].text)"
   ]
  },
  {
   "cell_type": "code",
   "execution_count": null,
   "metadata": {},
   "outputs": [],
   "source": []
  },
  {
   "cell_type": "markdown",
   "metadata": {},
   "source": []
  },
  {
   "cell_type": "code",
   "execution_count": null,
   "metadata": {
    "collapsed": true
   },
   "outputs": [],
   "source": []
  },
  {
   "cell_type": "markdown",
   "metadata": {},
   "source": [
    "# 2. Min-Hashing\n",
    "- Create a set of k random hash function\n",
    "- Get the signature of each document by: \n",
    "    - for each shingle e in doc\n",
    "        - save the index i of the hash function producing smallest h(e)\n",
    "        \n",
    "        \n",
    "## Hyperparameters\n",
    "\n",
    "#### n_buckets\n",
    "The number of hash buckets (or the number of different possible output values for the hash function). A high n_buckets will yield low similarity measures, because more possible hash values means fewer shingles will be hashed to the same buckets.\n",
    "\n",
    "#### n_hashes \n",
    "The number of hash functions used to create the min hashing signature. \n",
    "\n"
   ]
  },
  {
   "cell_type": "code",
   "execution_count": 410,
   "metadata": {
    "collapsed": true
   },
   "outputs": [],
   "source": [
    "n_hashes = 100"
   ]
  },
  {
   "cell_type": "code",
   "execution_count": 413,
   "metadata": {},
   "outputs": [
    {
     "name": "stderr",
     "output_type": "stream",
     "text": [
      "/Users/philipclaesson/anaconda3/lib/python3.6/site-packages/ipykernel_launcher.py:13: RuntimeWarning: overflow encountered in long_scalars\n",
      "  del sys.path[0]\n"
     ]
    }
   ],
   "source": [
    "## Create a set of k random hash functions (permutations). \n",
    "h = Hasher(n_hashes, n_buckets)\n",
    "h.generateRandomHashFunctions()\n",
    "\n",
    "## Create signatures for each set\n",
    "for d in documents:\n",
    "    d.createSignature(h)\n"
   ]
  },
  {
   "cell_type": "code",
   "execution_count": null,
   "metadata": {},
   "outputs": [],
   "source": [
    "\n"
   ]
  },
  {
   "cell_type": "code",
   "execution_count": 414,
   "metadata": {},
   "outputs": [
    {
     "data": {
      "text/plain": [
       "array([  0.,   0.,   1.,   0.,   0.,   0.,   0.,   0.,   1.,   2.,   0.,\n",
       "         0.,  14.,   1.,  10.,   2.,   0.,   0.,   0.,   0.,   0.,   0.,\n",
       "        20.,   1.,   0.,   0.,   3.,   0.,   0.,   0.,   0.,   0.,   1.,\n",
       "         1.,   0.,   0.,   0.,   0.,   0.,   0.,   1.,   0.,   1.,   0.,\n",
       "         3.,   4.,   1.,   0.,   1.,   2.,   0.,   1.,   2.,   0.,   0.,\n",
       "         0.,   0.,   1.,   0.,   0.,   0.,   1.,   0.,   0.,   0.,   1.,\n",
       "         1.,   1.,   0.,   0.,   0.,   0.,   1.,   1.,   0.,   0.,   0.,\n",
       "         0.,   0.,   1.,   0.,  30.,   5.,   6.,   1.,   0.,   2.,   0.,\n",
       "         2.,   0.,   0.,   0.,   0.,   1.,   0.,   0.,   0.,   0.,   0.,\n",
       "         0.])"
      ]
     },
     "execution_count": 414,
     "metadata": {},
     "output_type": "execute_result"
    }
   ],
   "source": [
    "documents[10].signature"
   ]
  },
  {
   "cell_type": "markdown",
   "metadata": {},
   "source": [
    "### Example: compute similarities for 10 documents."
   ]
  },
  {
   "cell_type": "code",
   "execution_count": 415,
   "metadata": {},
   "outputs": [
    {
     "data": {
      "text/html": [
       "<div>\n",
       "<style>\n",
       "    .dataframe thead tr:only-child th {\n",
       "        text-align: right;\n",
       "    }\n",
       "\n",
       "    .dataframe thead th {\n",
       "        text-align: left;\n",
       "    }\n",
       "\n",
       "    .dataframe tbody tr th {\n",
       "        vertical-align: top;\n",
       "    }\n",
       "</style>\n",
       "<table border=\"1\" class=\"dataframe\">\n",
       "  <thead>\n",
       "    <tr style=\"text-align: right;\">\n",
       "      <th></th>\n",
       "      <th>0</th>\n",
       "      <th>1</th>\n",
       "      <th>2</th>\n",
       "      <th>3</th>\n",
       "      <th>4</th>\n",
       "      <th>5</th>\n",
       "      <th>6</th>\n",
       "      <th>7</th>\n",
       "      <th>8</th>\n",
       "      <th>9</th>\n",
       "    </tr>\n",
       "  </thead>\n",
       "  <tbody>\n",
       "    <tr>\n",
       "      <th>0</th>\n",
       "      <td>1.00</td>\n",
       "      <td>0.75</td>\n",
       "      <td>0.82</td>\n",
       "      <td>0.86</td>\n",
       "      <td>0.80</td>\n",
       "      <td>0.55</td>\n",
       "      <td>0.89</td>\n",
       "      <td>0.66</td>\n",
       "      <td>0.90</td>\n",
       "      <td>0.86</td>\n",
       "    </tr>\n",
       "    <tr>\n",
       "      <th>1</th>\n",
       "      <td>0.75</td>\n",
       "      <td>1.00</td>\n",
       "      <td>0.68</td>\n",
       "      <td>0.72</td>\n",
       "      <td>0.71</td>\n",
       "      <td>0.51</td>\n",
       "      <td>0.73</td>\n",
       "      <td>0.58</td>\n",
       "      <td>0.77</td>\n",
       "      <td>0.72</td>\n",
       "    </tr>\n",
       "    <tr>\n",
       "      <th>2</th>\n",
       "      <td>0.82</td>\n",
       "      <td>0.68</td>\n",
       "      <td>1.00</td>\n",
       "      <td>0.84</td>\n",
       "      <td>0.83</td>\n",
       "      <td>0.58</td>\n",
       "      <td>0.89</td>\n",
       "      <td>0.63</td>\n",
       "      <td>0.86</td>\n",
       "      <td>0.88</td>\n",
       "    </tr>\n",
       "    <tr>\n",
       "      <th>3</th>\n",
       "      <td>0.86</td>\n",
       "      <td>0.72</td>\n",
       "      <td>0.84</td>\n",
       "      <td>1.00</td>\n",
       "      <td>0.78</td>\n",
       "      <td>0.56</td>\n",
       "      <td>0.85</td>\n",
       "      <td>0.64</td>\n",
       "      <td>0.86</td>\n",
       "      <td>0.85</td>\n",
       "    </tr>\n",
       "    <tr>\n",
       "      <th>4</th>\n",
       "      <td>0.80</td>\n",
       "      <td>0.71</td>\n",
       "      <td>0.83</td>\n",
       "      <td>0.78</td>\n",
       "      <td>1.00</td>\n",
       "      <td>0.55</td>\n",
       "      <td>0.82</td>\n",
       "      <td>0.65</td>\n",
       "      <td>0.84</td>\n",
       "      <td>0.81</td>\n",
       "    </tr>\n",
       "    <tr>\n",
       "      <th>5</th>\n",
       "      <td>0.55</td>\n",
       "      <td>0.51</td>\n",
       "      <td>0.58</td>\n",
       "      <td>0.56</td>\n",
       "      <td>0.55</td>\n",
       "      <td>1.00</td>\n",
       "      <td>0.58</td>\n",
       "      <td>0.51</td>\n",
       "      <td>0.60</td>\n",
       "      <td>0.54</td>\n",
       "    </tr>\n",
       "    <tr>\n",
       "      <th>6</th>\n",
       "      <td>0.89</td>\n",
       "      <td>0.73</td>\n",
       "      <td>0.89</td>\n",
       "      <td>0.85</td>\n",
       "      <td>0.82</td>\n",
       "      <td>0.58</td>\n",
       "      <td>1.00</td>\n",
       "      <td>0.65</td>\n",
       "      <td>0.93</td>\n",
       "      <td>0.91</td>\n",
       "    </tr>\n",
       "    <tr>\n",
       "      <th>7</th>\n",
       "      <td>0.66</td>\n",
       "      <td>0.58</td>\n",
       "      <td>0.63</td>\n",
       "      <td>0.64</td>\n",
       "      <td>0.65</td>\n",
       "      <td>0.51</td>\n",
       "      <td>0.65</td>\n",
       "      <td>1.00</td>\n",
       "      <td>0.62</td>\n",
       "      <td>0.64</td>\n",
       "    </tr>\n",
       "    <tr>\n",
       "      <th>8</th>\n",
       "      <td>0.90</td>\n",
       "      <td>0.77</td>\n",
       "      <td>0.86</td>\n",
       "      <td>0.86</td>\n",
       "      <td>0.84</td>\n",
       "      <td>0.60</td>\n",
       "      <td>0.93</td>\n",
       "      <td>0.62</td>\n",
       "      <td>1.00</td>\n",
       "      <td>0.90</td>\n",
       "    </tr>\n",
       "    <tr>\n",
       "      <th>9</th>\n",
       "      <td>0.86</td>\n",
       "      <td>0.72</td>\n",
       "      <td>0.88</td>\n",
       "      <td>0.85</td>\n",
       "      <td>0.81</td>\n",
       "      <td>0.54</td>\n",
       "      <td>0.91</td>\n",
       "      <td>0.64</td>\n",
       "      <td>0.90</td>\n",
       "      <td>1.00</td>\n",
       "    </tr>\n",
       "  </tbody>\n",
       "</table>\n",
       "</div>"
      ],
      "text/plain": [
       "      0     1     2     3     4     5     6     7     8     9\n",
       "0  1.00  0.75  0.82  0.86  0.80  0.55  0.89  0.66  0.90  0.86\n",
       "1  0.75  1.00  0.68  0.72  0.71  0.51  0.73  0.58  0.77  0.72\n",
       "2  0.82  0.68  1.00  0.84  0.83  0.58  0.89  0.63  0.86  0.88\n",
       "3  0.86  0.72  0.84  1.00  0.78  0.56  0.85  0.64  0.86  0.85\n",
       "4  0.80  0.71  0.83  0.78  1.00  0.55  0.82  0.65  0.84  0.81\n",
       "5  0.55  0.51  0.58  0.56  0.55  1.00  0.58  0.51  0.60  0.54\n",
       "6  0.89  0.73  0.89  0.85  0.82  0.58  1.00  0.65  0.93  0.91\n",
       "7  0.66  0.58  0.63  0.64  0.65  0.51  0.65  1.00  0.62  0.64\n",
       "8  0.90  0.77  0.86  0.86  0.84  0.60  0.93  0.62  1.00  0.90\n",
       "9  0.86  0.72  0.88  0.85  0.81  0.54  0.91  0.64  0.90  1.00"
      ]
     },
     "execution_count": 415,
     "metadata": {},
     "output_type": "execute_result"
    }
   ],
   "source": [
    "# Compute minhash signature similarity of some documents and store in dataframe\n",
    "n_docs = 10\n",
    "similarity_threshold = 0.7\n",
    "similarities = np.zeros((n_docs, n_docs))\n",
    "for i in range(n_docs): \n",
    "    for j in range(n_docs): \n",
    "        similarities[i, j] = documents[i].signatureSimilarity(documents[j])\n",
    "        \n",
    "simDF = pd.DataFrame(similarities)\n",
    "simDF.head(n_docs)"
   ]
  },
  {
   "cell_type": "markdown",
   "metadata": {},
   "source": [
    "### Find similar docs"
   ]
  },
  {
   "cell_type": "code",
   "execution_count": 416,
   "metadata": {},
   "outputs": [
    {
     "name": "stdout",
     "output_type": "stream",
     "text": [
      "Documents 0 and 1 are similar, similarity 0.75\n",
      "Documents 0 and 2 are similar, similarity 0.82\n",
      "Documents 0 and 3 are similar, similarity 0.86\n",
      "Documents 0 and 4 are similar, similarity 0.8\n",
      "Documents 0 and 6 are similar, similarity 0.89\n",
      "Documents 0 and 8 are similar, similarity 0.9\n",
      "Documents 0 and 9 are similar, similarity 0.86\n",
      "Documents 1 and 3 are similar, similarity 0.72\n",
      "Documents 1 and 4 are similar, similarity 0.71\n",
      "Documents 1 and 6 are similar, similarity 0.73\n",
      "Documents 1 and 8 are similar, similarity 0.77\n",
      "Documents 1 and 9 are similar, similarity 0.72\n",
      "Documents 2 and 3 are similar, similarity 0.84\n",
      "Documents 2 and 4 are similar, similarity 0.83\n",
      "Documents 2 and 6 are similar, similarity 0.89\n",
      "Documents 2 and 8 are similar, similarity 0.86\n",
      "Documents 2 and 9 are similar, similarity 0.88\n",
      "Documents 3 and 4 are similar, similarity 0.78\n",
      "Documents 3 and 6 are similar, similarity 0.85\n",
      "Documents 3 and 8 are similar, similarity 0.86\n",
      "Documents 3 and 9 are similar, similarity 0.85\n",
      "Documents 4 and 6 are similar, similarity 0.82\n",
      "Documents 4 and 8 are similar, similarity 0.84\n",
      "Documents 4 and 9 are similar, similarity 0.81\n",
      "Documents 6 and 8 are similar, similarity 0.93\n",
      "Documents 6 and 9 are similar, similarity 0.91\n",
      "Documents 8 and 9 are similar, similarity 0.9\n"
     ]
    }
   ],
   "source": [
    "similar_pairs = []\n",
    "for i in range(n_docs): \n",
    "    for j in range(n_docs): \n",
    "        if(similarities[i, j] > similarity_threshold):\n",
    "            if (i < j): ## This is in order to just include each pair once.. \n",
    "                print(\"Documents {} and {} are similar, similarity {}\".format(i, j, round(similarities[i, j], 4)))\n",
    "                similar_pairs.append((i, j))\n",
    "    \n",
    "    "
   ]
  },
  {
   "cell_type": "code",
   "execution_count": 417,
   "metadata": {},
   "outputs": [
    {
     "name": "stdout",
     "output_type": "stream",
     "text": [
      "Oct 30 2009 \tOK value though shabby; good position.\tI extended a one night stay to three. The staff were basically helpful when asked. My room was clean, comfortable, and daily serviced. I think the position is good for a budget hotel, near the Golden Gate theatre, right by Asian Arts Museum and Civic Centre. It's an old and architecturally atmospheric hotel.Negatives: it is very badly neglected. Things that might put you off are the need usually to ring the outside doorbell and wait to get someone to the unattended reception, unreliable breakfast availability (nil when I was there but I can see from other reviews that it can appear!), a very unreliable (but rather beautiful) classic Otis elevator, some very dilapidated corridors on the way to your room when the elevator is kaput, shabby though formerly elegant decor, homeless on nearby streets, though the street immediately outside was clear and felt safe and I didn't see any drug taking or pushing and I was never bothered anywhere. However, I rather liked both hotel and neighbourhood and felt it was OK value. One thing - when I extended my stay they raised the rate above the internet rate which was in the fifties to $70.\t\n",
      "\n",
      "Jul 17 2009 \tdon't take it unless you like bugs :)\tDespite it's old fashioned, I expexted it to be at least nice. The elevator was not working, so we had take take our stuff to the 4th floor ourselves, taking into account, that the floors are much higher than average. We found bugs in the room. The neighbourhood of the hotel isn't pleasant, I mean poeple. Although it is not far from places of interest and shopping centers.Anyway, not very good memories from this hote.\t\n",
      "\n"
     ]
    }
   ],
   "source": [
    "print(documents[similar_pairs[0][0]].text)\n",
    "print(documents[similar_pairs[0][1]].text)"
   ]
  },
  {
   "cell_type": "markdown",
   "metadata": {},
   "source": [
    "# 3. Locality Sensitive Hashing \n",
    "- Hash bands of signatures of each document\n",
    "- All that share at least \n"
   ]
  },
  {
   "cell_type": "markdown",
   "metadata": {},
   "source": [
    "![lsh](./docs/lsh.png/)"
   ]
  },
  {
   "cell_type": "code",
   "execution_count": null,
   "metadata": {
    "collapsed": true
   },
   "outputs": [],
   "source": []
  }
 ],
 "metadata": {
  "kernelspec": {
   "display_name": "Python 3",
   "language": "python",
   "name": "python3"
  },
  "language_info": {
   "codemirror_mode": {
    "name": "ipython",
    "version": 3
   },
   "file_extension": ".py",
   "mimetype": "text/x-python",
   "name": "python",
   "nbconvert_exporter": "python",
   "pygments_lexer": "ipython3",
   "version": "3.6.2"
  }
 },
 "nbformat": 4,
 "nbformat_minor": 2
}
